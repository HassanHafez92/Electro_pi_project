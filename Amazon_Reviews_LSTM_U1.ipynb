{
 "cells": [
  {
   "cell_type": "code",
   "execution_count": 1,
   "id": "53d93025-126d-4e08-87a2-ef1b6013ecea",
   "metadata": {
    "id": "53d93025-126d-4e08-87a2-ef1b6013ecea",
    "tags": []
   },
   "outputs": [],
   "source": [
    "import numpy as np\n",
    "import pandas as pd\n",
    "import bz2\n",
    "import gc\n",
    "import chardet\n",
    "import re\n",
    "import os\n",
    "import matplotlib.pyplot as plt\n",
    "import seaborn as sns\n",
    "\n",
    "from sklearn.metrics import f1_score, roc_auc_score, accuracy_score\n",
    "from sklearn.model_selection import train_test_split\n",
    "\n",
    "import tensorflow as tf\n",
    "from keras.models import Model, Sequential\n",
    "from keras.layers import Dense, Embedding, Input, Conv1D, GlobalMaxPool1D, Dropout, concatenate, Layer, InputSpec, LSTM\n",
    "from keras.preprocessing import text, sequence\n",
    "from keras.callbacks import EarlyStopping, ModelCheckpoint\n",
    "from keras import backend as K\n",
    "from keras import activations, initializers, regularizers, constraints\n",
    "from tensorflow.keras.utils import plot_model\n",
    "from tensorflow.keras.preprocessing.sequence import pad_sequences\n",
    "\n",
    "from tensorflow.python.keras.utils.conv_utils import conv_output_length\n",
    "from keras.regularizers import l2\n",
    "from tensorflow.keras.constraints import max_norm\n",
    "\n",
    "sns.set_style('whitegrid')\n",
    "%matplotlib inline\n",
    "import warnings\n",
    "warnings.filterwarnings('ignore')"
   ]
  },
  {
   "cell_type": "markdown",
   "id": "93719826-a334-4fc1-8c7d-2bf21cb23e33",
   "metadata": {
    "id": "93719826-a334-4fc1-8c7d-2bf21cb23e33"
   },
   "source": [
    "# Read Train & Test Files"
   ]
  },
  {
   "cell_type": "markdown",
   "id": "c2fe2d39-4fe2-465c-82e7-4dfe484e47fe",
   "metadata": {
    "id": "c2fe2d39-4fe2-465c-82e7-4dfe484e47fe"
   },
   "source": [
    "###### https://www.kaggle.com/datasets/bittlingmayer/amazonreviews/download?datasetVersionNumber=7"
   ]
  },
  {
   "cell_type": "markdown",
   "id": "eb2e6193-d604-47a3-9c2e-82a6ecc908b5",
   "metadata": {
    "id": "eb2e6193-d604-47a3-9c2e-82a6ecc908b5"
   },
   "source": [
    "### Convert from raw binary strings to strings that can be parsed"
   ]
  },
  {
   "cell_type": "code",
   "execution_count": 2,
   "id": "f1320bab-b087-4a97-9829-e1d537231020",
   "metadata": {
    "colab": {
     "background_save": true
    },
    "id": "f1320bab-b087-4a97-9829-e1d537231020",
    "tags": []
   },
   "outputs": [],
   "source": [
    "def assign_labels_and_comments(file):\n",
    "    labels = []\n",
    "    comments = []\n",
    "    for line in bz2.BZ2File(file):\n",
    "        x = line.decode(\"utf-8\")\n",
    "        labels.append(int(x[9]) - 1)\n",
    "        comments.append(x[10:].strip())\n",
    "    return np.array(labels), comments\n",
    "train_labels, train_text = assign_labels_and_comments('data/Amazon Reviews/train.ft.txt.bz2')\n",
    "test_labels, test_text = assign_labels_and_comments('data/Amazon Reviews/test.ft.txt.bz2')"
   ]
  },
  {
   "cell_type": "code",
   "execution_count": 3,
   "id": "12c64CqBLF5Z",
   "metadata": {
    "colab": {
     "background_save": true
    },
    "id": "12c64CqBLF5Z",
    "outputId": "a7c35db5-1af8-40cf-fe12-c64d771a8598",
    "tags": []
   },
   "outputs": [
    {
     "name": "stdout",
     "output_type": "stream",
     "text": [
      "1 /n\n",
      "Stuning even for the non-gamer: This sound track was beautiful! It paints the senery in your mind so well I would recomend it even to people who hate vid. game music! I have played the game Chrono Cross but out of all of the games I have ever played it has the best music! It backs away from crude keyboarding and takes a fresher step with grate guitars and soulful orchestras. It would impress anyone who cares to listen! ^_^\n"
     ]
    }
   ],
   "source": [
    "print(train_labels[0],'/n')\n",
    "print(train_text[0])"
   ]
  },
  {
   "cell_type": "code",
   "execution_count": 4,
   "id": "77ThnvTELjZK",
   "metadata": {
    "colab": {
     "background_save": true
    },
    "id": "77ThnvTELjZK",
    "tags": []
   },
   "outputs": [],
   "source": [
    "not_numChar = re.compile(r'[\\W]')\n",
    "no_encode = re.compile(r'[^a-z0-1\\s]')\n",
    "def normalisation(texts):\n",
    "    norm_text = []\n",
    "    for word in texts:\n",
    "        lower = word.lower()\n",
    "        not_punct = not_numChar.sub(r' ', lower)\n",
    "        exclude_no_encode = no_encode.sub(r'', not_punct)\n",
    "        norm_text.append(exclude_no_encode)\n",
    "    return norm_text"
   ]
  },
  {
   "cell_type": "code",
   "execution_count": 5,
   "id": "Se7hg21tMMad",
   "metadata": {
    "colab": {
     "background_save": true
    },
    "id": "Se7hg21tMMad",
    "tags": []
   },
   "outputs": [],
   "source": [
    "train_text = normalisation(train_text)\n",
    "test_text = normalisation(test_text)"
   ]
  },
  {
   "cell_type": "code",
   "execution_count": 6,
   "id": "FpmiI6tbMNEY",
   "metadata": {
    "colab": {
     "background_save": true
    },
    "id": "FpmiI6tbMNEY",
    "outputId": "a7d89775-12c4-41b3-b54f-dca71b3c04ad",
    "tags": []
   },
   "outputs": [
    {
     "name": "stdout",
     "output_type": "stream",
     "text": [
      "stuning even for the non gamer  this sound track was beautiful  it paints the senery in your mind so well i would recomend it even to people who hate vid  game music  i have played the game chrono cross but out of all of the games i have ever played it has the best music  it backs away from crude keyboarding and takes a fresher step with grate guitars and soulful orchestras  it would impress anyone who cares to listen    \n"
     ]
    }
   ],
   "source": [
    "print(train_text[0])"
   ]
  },
  {
   "cell_type": "code",
   "execution_count": 7,
   "id": "iUzaMXKTMVAh",
   "metadata": {
    "colab": {
     "background_save": true
    },
    "id": "iUzaMXKTMVAh",
    "tags": []
   },
   "outputs": [],
   "source": [
    "y_train = np.array(train_labels)\n",
    "y_test = np.array(test_labels)"
   ]
  },
  {
   "cell_type": "code",
   "execution_count": 8,
   "id": "mC1bo3e6MUwP",
   "metadata": {
    "colab": {
     "background_save": true
    },
    "id": "mC1bo3e6MUwP",
    "outputId": "9168b6f3-3f14-4745-8e06-c1e0d170597e",
    "tags": []
   },
   "outputs": [
    {
     "data": {
      "text/plain": [
       "(400000,)"
      ]
     },
     "execution_count": 8,
     "metadata": {},
     "output_type": "execute_result"
    }
   ],
   "source": [
    "y_test.shape"
   ]
  },
  {
   "cell_type": "code",
   "execution_count": 9,
   "id": "hzLzijiKMUSf",
   "metadata": {
    "colab": {
     "background_save": true
    },
    "id": "hzLzijiKMUSf",
    "tags": []
   },
   "outputs": [],
   "source": [
    "from tensorflow.keras.preprocessing.text import Tokenizer, text_to_word_sequence\n",
    "\n",
    "max_features = 8192\n",
    "maxlen = 128\n",
    "embed_size = 64\n",
    "\n",
    "tokenizer = Tokenizer(num_words=max_features)\n",
    "tokenizer.fit_on_texts(train_text)"
   ]
  },
  {
   "cell_type": "code",
   "execution_count": 10,
   "id": "Ku8suYT0OHvs",
   "metadata": {
    "colab": {
     "background_save": true
    },
    "id": "Ku8suYT0OHvs",
    "tags": []
   },
   "outputs": [],
   "source": [
    "training_token = tokenizer.texts_to_sequences(train_text)\n",
    "testing_token = tokenizer.texts_to_sequences(test_text)"
   ]
  },
  {
   "cell_type": "code",
   "execution_count": 11,
   "id": "njGCfYMjN1iL",
   "metadata": {
    "colab": {
     "background_save": true
    },
    "id": "njGCfYMjN1iL",
    "tags": []
   },
   "outputs": [],
   "source": [
    "x_train = pad_sequences(training_token, maxlen = maxlen, padding = 'post')\n",
    "x_test = pad_sequences(testing_token, maxlen = maxlen, padding = 'post')"
   ]
  },
  {
   "cell_type": "code",
   "execution_count": 12,
   "id": "rwsMX2q_OS9A",
   "metadata": {
    "colab": {
     "background_save": true
    },
    "id": "rwsMX2q_OS9A",
    "outputId": "0c49b026-2c97-413a-eade-831ef8b3173a",
    "tags": []
   },
   "outputs": [
    {
     "name": "stdout",
     "output_type": "stream",
     "text": [
      "Model: \"sequential\"\n",
      "_________________________________________________________________\n",
      " Layer (type)                Output Shape              Param #   \n",
      "=================================================================\n",
      " embedding (Embedding)       (None, 128, 64)           524288    \n",
      "                                                                 \n",
      " bidirectional (Bidirection  (None, 64)                24832     \n",
      " al)                                                             \n",
      "                                                                 \n",
      " dense (Dense)               (None, 128)               8320      \n",
      "                                                                 \n",
      " dense_1 (Dense)             (None, 1)                 129       \n",
      "                                                                 \n",
      "=================================================================\n",
      "Total params: 557569 (2.13 MB)\n",
      "Trainable params: 557569 (2.13 MB)\n",
      "Non-trainable params: 0 (0.00 Byte)\n",
      "_________________________________________________________________\n"
     ]
    }
   ],
   "source": [
    "model_lstm = tf.keras.Sequential([\n",
    "    tf.keras.layers.Embedding(max_features, embed_size, input_length = maxlen),\n",
    "    tf.keras.layers.Bidirectional(tf.keras.layers.LSTM(32)),\n",
    "\n",
    "    tf.keras.layers.Dense(128, activation = 'relu'),\n",
    "    tf.keras.layers.Dense(1, activation = 'sigmoid')\n",
    "])\n",
    "\n",
    "model_lstm.compile('adam', 'binary_crossentropy', metrics = ['accuracy'], steps_per_execution=16)\n",
    "model_lstm.summary()\n",
    "\n"
   ]
  },
  {
   "cell_type": "code",
   "execution_count": 13,
   "id": "UBWUl4erOaCp",
   "metadata": {
    "colab": {
     "base_uri": "https://localhost:8080/"
    },
    "id": "UBWUl4erOaCp",
    "outputId": "5e365b9d-84a3-4f76-f3a3-8266e89cfdf1",
    "tags": []
   },
   "outputs": [
    {
     "name": "stdout",
     "output_type": "stream",
     "text": [
      "Epoch 1/2\n",
      "112500/112500 - 3447s - loss: 0.1614 - accuracy: 0.9383 - val_loss: 0.1429 - val_accuracy: 0.9467 - 3447s/epoch - 31ms/step\n",
      "Epoch 2/2\n",
      "112500/112500 - 3604s - loss: 0.1338 - accuracy: 0.9504 - val_loss: 0.1364 - val_accuracy: 0.9492 - 3604s/epoch - 32ms/step\n"
     ]
    }
   ],
   "source": [
    "history_lstm = model_lstm.fit(x_train, y_train, batch_size = 32, epochs = 2, validation_data = (x_test, y_test), verbose = 2)"
   ]
  },
  {
   "cell_type": "code",
   "execution_count": 21,
   "id": "1a8c5613-a532-42c0-beed-9be858f2ed55",
   "metadata": {
    "id": "1a8c5613-a532-42c0-beed-9be858f2ed55"
   },
   "outputs": [
    {
     "name": "stdout",
     "output_type": "stream",
     "text": [
      "12500/12500 [==============================] - 140s 11ms/step - loss: 0.1364 - accuracy: 0.9492\n"
     ]
    },
    {
     "data": {
      "text/plain": [
       "[0.1363833248615265, 0.9491674900054932]"
      ]
     },
     "execution_count": 21,
     "metadata": {},
     "output_type": "execute_result"
    }
   ],
   "source": [
    "preds = model_lstm.evaluate(x_test, y_test)\n",
    "preds"
   ]
  },
  {
   "cell_type": "code",
   "execution_count": 23,
   "id": "fpyfluvYOadB",
   "metadata": {
    "id": "fpyfluvYOadB",
    "tags": []
   },
   "outputs": [
    {
     "name": "stdout",
     "output_type": "stream",
     "text": [
      "12500/12500 [==============================] - 143s 11ms/step\n",
      "Accuracy score of the RNN Model: 0.949\n",
      "F1 score of the RNN Model: 0.949\n",
      "ROC AUC score of the RNN Model: 0.988\n"
     ]
    },
    {
     "data": {
      "text/plain": [
       "<Figure size 640x480 with 0 Axes>"
      ]
     },
     "execution_count": 23,
     "metadata": {},
     "output_type": "execute_result"
    },
    {
     "data": {
      "image/png": "[encoded data removed]",
      "text/plain": [
       "<Figure size 640x480 with 1 Axes>"
      ]
     },
     "metadata": {},
     "output_type": "display_data"
    },
    {
     "data": {
      "image/png": "[encoded data removed]",
      "text/plain": [
       "<Figure size 640x480 with 1 Axes>"
      ]
     },
     "metadata": {},
     "output_type": "display_data"
    },
    {
     "data": {
      "text/plain": [
       "<Figure size 640x480 with 0 Axes>"
      ]
     },
     "metadata": {},
     "output_type": "display_data"
    }
   ],
   "source": [
    "import matplotlib.image  as mpimg\n",
    "\n",
    "#-----------------------------------------------------------\n",
    "# Retrieve a list of list results on training and test data\n",
    "# sets for each training epoch\n",
    "#-----------------------------------------------------------\n",
    "acc=history_lstm.history['accuracy']\n",
    "val_acc=history_lstm.history['val_accuracy']\n",
    "loss=history_lstm.history['loss']\n",
    "val_loss=history_lstm.history['val_loss']\n",
    "\n",
    "rnn_preds = model.predict(x_test)\n",
    "\n",
    "accuracy_rnn = accuracy_score(y_test, 1 * (rnn_preds > 0.5))\n",
    "f1_rnn = f1_score(y_test, 1 * (rnn_preds > 0.5))\n",
    "rocauc_rnn = roc_auc_score(y_test, rnn_preds)\n",
    "\n",
    "print('Accuracy score of the RNN Model: {:0.3}'.format(accuracy_rnn))\n",
    "print('F1 score of the RNN Model: {:0.3}'.format(f1_rnn))\n",
    "print('ROC AUC score of the RNN Model: {:0.3}'.format(rocauc_rnn))\n",
    "\n",
    "epochs=range(len(acc)) # Get number of epochs\n",
    "\n",
    "#------------------------------------------------\n",
    "# Plot training and validation accuracy per epoch\n",
    "#------------------------------------------------\n",
    "plt.plot(epochs, acc, 'r')\n",
    "plt.plot(epochs, val_acc, 'b')\n",
    "plt.title('Training and validation accuracy')\n",
    "plt.xlabel(\"Epochs\")\n",
    "plt.ylabel(\"Accuracy\")\n",
    "plt.legend([\"Accuracy\", \"Validation Accuracy\"])\n",
    "\n",
    "plt.figure()\n",
    "\n",
    "#------------------------------------------------\n",
    "# Plot training and validation loss per epoch\n",
    "#------------------------------------------------\n",
    "plt.plot(epochs, loss, 'r')\n",
    "plt.plot(epochs, val_loss, 'b')\n",
    "plt.title('Training and validation loss')\n",
    "plt.xlabel(\"Epochs\")\n",
    "plt.ylabel(\"Loss\")\n",
    "plt.legend([\"Loss\", \"Validation Loss\"])\n",
    "\n",
    "plt.figure()"
   ]
  },
  {
   "cell_type": "code",
   "execution_count": 16,
   "id": "54aa131b-c05c-473d-9aaa-82f377c0b261",
   "metadata": {
    "tags": []
   },
   "outputs": [],
   "source": [
    "import keras\n",
    "model_lstm.save('my_model.keras')"
   ]
  },
  {
   "cell_type": "code",
   "execution_count": 17,
   "id": "53ddab5f-1a25-469c-8159-12b51f1f8e86",
   "metadata": {
    "tags": []
   },
   "outputs": [],
   "source": [
    "model = keras.models.load_model(\"my_model.keras\")"
   ]
  },
  {
   "cell_type": "code",
   "execution_count": 24,
   "id": "d4c4d72e-d382-4288-9f3a-95de80986473",
   "metadata": {
    "tags": []
   },
   "outputs": [
    {
     "name": "stdout",
     "output_type": "stream",
     "text": [
      "12500/12500 [==============================] - 141s 11ms/step\n",
      "12500/12500 [==============================] - 143s 11ms/step\n"
     ]
    }
   ],
   "source": [
    "# Let's check:\n",
    "np.testing.assert_allclose(\n",
    "    model_lstm.predict(x_test), model.predict(x_test)\n",
    ")"
   ]
  }
 ],
 "metadata": {
  "colab": {
   "provenance": []
  },
  "kernelspec": {
   "display_name": "Python 3 (ipykernel)",
   "language": "python",
   "name": "python3"
  },
  "language_info": {
   "codemirror_mode": {
    "name": "ipython",
    "version": 3
   },
   "file_extension": ".py",
   "mimetype": "text/x-python",
   "name": "python",
   "nbconvert_exporter": "python",
   "pygments_lexer": "ipython3",
   "version": "3.9.18"
  }
 },
 "nbformat": 4,
 "nbformat_minor": 5
}
