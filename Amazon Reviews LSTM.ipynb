{
 "cells": [
  {
   "cell_type": "code",
   "execution_count": 122,
   "id": "53d93025-126d-4e08-87a2-ef1b6013ecea",
   "metadata": {
    "tags": []
   },
   "outputs": [
    {
     "name": "stdout",
     "output_type": "stream",
     "text": [
      "['test.ft.txt.bz2', 'train.ft.txt.bz2']\n"
     ]
    }
   ],
   "source": [
    "import numpy as np \n",
    "import pandas as pd \n",
    "import bz2\n",
    "import gc\n",
    "import chardet\n",
    "import re\n",
    "import os\n",
    "import matplotlib.pyplot as plt\n",
    "import seaborn as sns\n",
    "\n",
    "from sklearn.metrics import f1_score, roc_auc_score, accuracy_score\n",
    "from sklearn.model_selection import train_test_split\n",
    "\n",
    "from keras.models import Model, Sequential\n",
    "from keras.layers import Dense, Embedding, Input, Conv1D, GlobalMaxPool1D, Dropout, concatenate, Layer, InputSpec, LSTM\n",
    "from keras.preprocessing import text, sequence\n",
    "from keras.callbacks import EarlyStopping, ModelCheckpoint\n",
    "from keras import backend as K\n",
    "from keras import activations, initializers, regularizers, constraints\n",
    "from tensorflow.keras.utils import plot_model\n",
    "\n",
    "from tensorflow.python.keras.utils.conv_utils import conv_output_length\n",
    "from keras.regularizers import l2\n",
    "from tensorflow.keras.constraints import max_norm\n",
    "\n",
    "sns.set_style('whitegrid')\n",
    "%matplotlib inline\n",
    "import warnings\n",
    "warnings.filterwarnings('ignore')\n",
    "\n",
    "print(os.listdir(\"data/Amazon Reviews\"))"
   ]
  },
  {
   "cell_type": "markdown",
   "id": "93719826-a334-4fc1-8c7d-2bf21cb23e33",
   "metadata": {
    "tags": []
   },
   "source": [
    "# Read Train & Test Files"
   ]
  },
  {
   "cell_type": "code",
   "execution_count": 39,
   "id": "69e63947-485b-4a16-9a22-5dac4e72ea0c",
   "metadata": {
    "tags": []
   },
   "outputs": [],
   "source": [
    "#### To Download Datam "
   ]
  },
  {
   "cell_type": "markdown",
   "id": "c2fe2d39-4fe2-465c-82e7-4dfe484e47fe",
   "metadata": {
    "tags": []
   },
   "source": [
    "###### https://www.kaggle.com/datasets/bittlingmayer/amazonreviews/download?datasetVersionNumber=7"
   ]
  },
  {
   "cell_type": "markdown",
   "id": "eb2e6193-d604-47a3-9c2e-82a6ecc908b5",
   "metadata": {},
   "source": [
    "### Convert from raw binary strings to strings that can be parsed"
   ]
  },
  {
   "cell_type": "code",
   "execution_count": 2,
   "id": "f1320bab-b087-4a97-9829-e1d537231020",
   "metadata": {
    "tags": []
   },
   "outputs": [],
   "source": [
    "def assign_labels_and_comments(file):\n",
    "    labels = []\n",
    "    comments = []\n",
    "    for line in bz2.BZ2File(file):\n",
    "        x = line.decode(\"utf-8\")\n",
    "        labels.append(int(x[9]) - 1)\n",
    "        comments.append(x[10:].strip())\n",
    "    return np.array(labels), comments\n",
    "train_labels, train_comments = assign_labels_and_comments('data/Amazon Reviews/train.ft.txt.bz2')\n",
    "test_labels, test_comments = assign_labels_and_comments('data/Amazon Reviews/test.ft.txt.bz2')"
   ]
  },
  {
   "cell_type": "code",
   "execution_count": 3,
   "id": "1a8c5613-a532-42c0-beed-9be858f2ed55",
   "metadata": {
    "tags": []
   },
   "outputs": [],
   "source": [
    "# train_lables = (0 if x.split(' ')[0] == '__label__' else 1 for x in train_file_line)\n",
    "train_sentences = [x.split(' ', 1)[1][:-1].lower() for x in train_comments]\n",
    "\n",
    "for i in range(len(train_sentences)):\n",
    "    train_sentences[i] = re.sub('\\d','0', train_sentences[i])"
   ]
  },
  {
   "cell_type": "code",
   "execution_count": 4,
   "id": "8840b22e-8ed5-4956-8b6d-7a3b7031abe6",
   "metadata": {
    "tags": []
   },
   "outputs": [],
   "source": [
    "# test_lables = (0 if x.split(' ')[0] == '__label__' else 1 for x in test_file_line)\n",
    "test_sentences = [x.split(' ', 1)[1][:-1].lower() for x in test_comments]\n",
    "\n",
    "for i in range(len(test_sentences)):\n",
    "    test_sentences[i] = re.sub('\\d', '0', test_sentences[i])"
   ]
  },
  {
   "cell_type": "code",
   "execution_count": 5,
   "id": "3ec32919-b80e-40d5-9f31-0d5cd2376ebb",
   "metadata": {
    "tags": []
   },
   "outputs": [],
   "source": [
    "for i in range(len(train_sentences)):\n",
    "    if 'www.' in train_sentences[i] or 'http:' in train_sentences[i] or 'https:' in train_sentences[i] or '.com' in train_sentences[i]:\n",
    "        train_sentences[i] = re.sub(r\"([^ ]+(?<=\\.[a-z]{3}))\", \"<url>\", train_sentences[i])\n",
    "        \n",
    "for i in range(len(test_sentences)):\n",
    "    if 'www.' in test_sentences[i] or 'http:' in test_sentences[i] or 'https:' in test_sentences[i] or '.com' in test_sentences[i]:\n",
    "        test_sentences[i] = re.sub(r\"([^ ]+(?<=\\.[a-z]{3}))\", \"<url>\", test_sentences[i])"
   ]
  },
  {
   "cell_type": "code",
   "execution_count": 6,
   "id": "e4fbeeea-19d5-4c80-9cb4-2fbba963a487",
   "metadata": {
    "tags": []
   },
   "outputs": [
    {
     "data": {
      "text/plain": [
       "'even for the non-gamer: this sound track was beautiful! it paints the senery in your mind so well i would recomend it even to people who hate vid. game music! i have played the game chrono cross but out of all of the games i have ever played it has the best music! it backs away from crude keyboarding and takes a fresher step with grate guitars and soulful orchestras. it would impress anyone who cares to listen! ^_'"
      ]
     },
     "execution_count": 6,
     "metadata": {},
     "output_type": "execute_result"
    }
   ],
   "source": [
    "train_sentences[0]"
   ]
  },
  {
   "cell_type": "code",
   "execution_count": 7,
   "id": "555e6338-90c5-4fd4-a51e-48585da63399",
   "metadata": {
    "tags": []
   },
   "outputs": [
    {
     "data": {
      "text/html": [
       "<div>\n",
       "<style scoped>\n",
       "    .dataframe tbody tr th:only-of-type {\n",
       "        vertical-align: middle;\n",
       "    }\n",
       "\n",
       "    .dataframe tbody tr th {\n",
       "        vertical-align: top;\n",
       "    }\n",
       "\n",
       "    .dataframe thead th {\n",
       "        text-align: right;\n",
       "    }\n",
       "</style>\n",
       "<table border=\"1\" class=\"dataframe\">\n",
       "  <thead>\n",
       "    <tr style=\"text-align: right;\">\n",
       "      <th></th>\n",
       "      <th>review</th>\n",
       "    </tr>\n",
       "  </thead>\n",
       "  <tbody>\n",
       "    <tr>\n",
       "      <th>0</th>\n",
       "      <td>even for the non-gamer: this sound track was b...</td>\n",
       "    </tr>\n",
       "    <tr>\n",
       "      <th>1</th>\n",
       "      <td>best soundtrack ever to anything.: i'm reading...</td>\n",
       "    </tr>\n",
       "    <tr>\n",
       "      <th>2</th>\n",
       "      <td>this soundtrack is my favorite music of all ti...</td>\n",
       "    </tr>\n",
       "    <tr>\n",
       "      <th>3</th>\n",
       "      <td>soundtrack: i truly like this soundtrack and i...</td>\n",
       "    </tr>\n",
       "    <tr>\n",
       "      <th>4</th>\n",
       "      <td>pull your jaw off the floor after hearing it: ...</td>\n",
       "    </tr>\n",
       "  </tbody>\n",
       "</table>\n",
       "</div>"
      ],
      "text/plain": [
       "                                              review\n",
       "0  even for the non-gamer: this sound track was b...\n",
       "1  best soundtrack ever to anything.: i'm reading...\n",
       "2  this soundtrack is my favorite music of all ti...\n",
       "3  soundtrack: i truly like this soundtrack and i...\n",
       "4  pull your jaw off the floor after hearing it: ..."
      ]
     },
     "execution_count": 7,
     "metadata": {},
     "output_type": "execute_result"
    }
   ],
   "source": [
    "train_sentences_df = pd.DataFrame(train_sentences,columns = ['review'])\n",
    "train_sentences_df.head()"
   ]
  },
  {
   "cell_type": "code",
   "execution_count": 8,
   "id": "203f2954-d719-4c61-b764-24c2c2280e33",
   "metadata": {
    "tags": []
   },
   "outputs": [],
   "source": [
    "train_sentences_df['word_count'] = train_sentences_df['review'].apply(lambda x : len(x.split()))\n",
    "train_sentences_df['char_count'] = train_sentences_df['review'].apply(lambda x : len(x.replace(\" \",\"\")))\n",
    "train_sentences_df['word_density'] = train_sentences_df['word_count'] / (train_sentences_df['char_count'] + 1)"
   ]
  },
  {
   "cell_type": "code",
   "execution_count": 9,
   "id": "39af3d2a-00bb-4888-9c15-d35ef96b3818",
   "metadata": {
    "tags": []
   },
   "outputs": [
    {
     "data": {
      "text/html": [
       "<div>\n",
       "<style scoped>\n",
       "    .dataframe tbody tr th:only-of-type {\n",
       "        vertical-align: middle;\n",
       "    }\n",
       "\n",
       "    .dataframe tbody tr th {\n",
       "        vertical-align: top;\n",
       "    }\n",
       "\n",
       "    .dataframe thead th {\n",
       "        text-align: right;\n",
       "    }\n",
       "</style>\n",
       "<table border=\"1\" class=\"dataframe\">\n",
       "  <thead>\n",
       "    <tr style=\"text-align: right;\">\n",
       "      <th></th>\n",
       "      <th>review</th>\n",
       "      <th>word_count</th>\n",
       "      <th>char_count</th>\n",
       "      <th>word_density</th>\n",
       "    </tr>\n",
       "  </thead>\n",
       "  <tbody>\n",
       "    <tr>\n",
       "      <th>0</th>\n",
       "      <td>even for the non-gamer: this sound track was b...</td>\n",
       "      <td>79</td>\n",
       "      <td>339</td>\n",
       "      <td>0.232353</td>\n",
       "    </tr>\n",
       "    <tr>\n",
       "      <th>1</th>\n",
       "      <td>best soundtrack ever to anything.: i'm reading...</td>\n",
       "      <td>96</td>\n",
       "      <td>409</td>\n",
       "      <td>0.234146</td>\n",
       "    </tr>\n",
       "    <tr>\n",
       "      <th>2</th>\n",
       "      <td>this soundtrack is my favorite music of all ti...</td>\n",
       "      <td>128</td>\n",
       "      <td>622</td>\n",
       "      <td>0.205457</td>\n",
       "    </tr>\n",
       "    <tr>\n",
       "      <th>3</th>\n",
       "      <td>soundtrack: i truly like this soundtrack and i...</td>\n",
       "      <td>117</td>\n",
       "      <td>616</td>\n",
       "      <td>0.189627</td>\n",
       "    </tr>\n",
       "    <tr>\n",
       "      <th>4</th>\n",
       "      <td>pull your jaw off the floor after hearing it: ...</td>\n",
       "      <td>86</td>\n",
       "      <td>385</td>\n",
       "      <td>0.222798</td>\n",
       "    </tr>\n",
       "  </tbody>\n",
       "</table>\n",
       "</div>"
      ],
      "text/plain": [
       "                                              review  word_count  char_count  \\\n",
       "0  even for the non-gamer: this sound track was b...          79         339   \n",
       "1  best soundtrack ever to anything.: i'm reading...          96         409   \n",
       "2  this soundtrack is my favorite music of all ti...         128         622   \n",
       "3  soundtrack: i truly like this soundtrack and i...         117         616   \n",
       "4  pull your jaw off the floor after hearing it: ...          86         385   \n",
       "\n",
       "   word_density  \n",
       "0      0.232353  \n",
       "1      0.234146  \n",
       "2      0.205457  \n",
       "3      0.189627  \n",
       "4      0.222798  "
      ]
     },
     "execution_count": 9,
     "metadata": {},
     "output_type": "execute_result"
    }
   ],
   "source": [
    "train_sentences_df.head()"
   ]
  },
  {
   "cell_type": "code",
   "execution_count": 11,
   "id": "41c45ef0-3e53-4fdb-9a18-5f9f94bf3534",
   "metadata": {
    "tags": []
   },
   "outputs": [
    {
     "data": {
      "image/png": "[encoded data removed]",
      "text/plain": [
       "<Figure size 1600x600 with 3 Axes>"
      ]
     },
     "metadata": {},
     "output_type": "display_data"
    }
   ],
   "source": [
    "fig, ax = plt.subplots(1, 3, figsize=(16, 6))\n",
    "dp=sns.histplot (train_sentences_df['word_count'],ax=ax[0])\n",
    "dp=sns.histplot (train_sentences_df['char_count'],ax=ax[1])\n",
    "dp=sns.histplot (train_sentences_df['word_density'],ax=ax[2])\n",
    "plt.show()"
   ]
  },
  {
   "cell_type": "code",
   "execution_count": 10,
   "id": "13a906ed-72e5-40a6-9c47-0e47fa92a898",
   "metadata": {
    "tags": []
   },
   "outputs": [],
   "source": [
    "train_comments, val_comments, train_labels, val_labels = train_test_split(train_sentences, train_labels, \n",
    "                                                                          random_state=42, test_size=0.2)"
   ]
  },
  {
   "cell_type": "code",
   "execution_count": 13,
   "id": "46db6585-8eea-4e81-9642-14bde68efd4d",
   "metadata": {
    "tags": []
   },
   "outputs": [
    {
     "data": {
      "text/plain": [
       "113"
      ]
     },
     "execution_count": 13,
     "metadata": {},
     "output_type": "execute_result"
    }
   ],
   "source": [
    "gc.collect()"
   ]
  },
  {
   "cell_type": "code",
   "execution_count": 12,
   "id": "fb89e9db-9eb3-4ec9-b902-a4647eb59bdb",
   "metadata": {
    "tags": []
   },
   "outputs": [],
   "source": [
    "maximum_features = 14000\n"
   ]
  },
  {
   "cell_type": "code",
   "execution_count": 18,
   "id": "5f0c2355-0e0a-48be-b3b6-e8df4338c3a7",
   "metadata": {
    "tags": []
   },
   "outputs": [],
   "source": [
    "tokenizer = text.Tokenizer(num_words=maximum_features)\n",
    "tokenizer.fit_on_texts(train_comments)\n",
    "train_comments = tokenizer.texts_to_sequences(train_comments)\n",
    "val_comments = tokenizer.texts_to_sequences(val_comments)\n",
    "test_comments = tokenizer.texts_to_sequences(test_comments)"
   ]
  },
  {
   "cell_type": "code",
   "execution_count": 19,
   "id": "ff348fcc-c9bd-445e-8398-f9bc5672a3e5",
   "metadata": {
    "tags": []
   },
   "outputs": [],
   "source": [
    "maximum_length = max(len(train_ex) for train_ex in train_comments)\n",
    "train_comments_pad = sequence.pad_sequences(train_comments, maxlen=maximum_length)\n",
    "val_comments_pad = sequence.pad_sequences(val_comments, maxlen=maximum_length)\n",
    "test_comments_pad = sequence.pad_sequences(test_comments, maxlen=maximum_length)"
   ]
  },
  {
   "cell_type": "code",
   "execution_count": 22,
   "id": "a24868b5-ca0c-474d-bed1-dd5dbed4cfa5",
   "metadata": {
    "tags": []
   },
   "outputs": [
    {
     "data": {
      "text/plain": [
       "array([    0,     0,     0,     0,     0,     0,     0,     0,     0,\n",
       "           0,     0,     0,     0,     0,     0,     0,     0,     0,\n",
       "           0,     0,     0,     0,     0,     0,     0,     0,     0,\n",
       "           0,     0,     0,     0,     0,     0,     0,     0,     0,\n",
       "           0,     0,     0,     0,     0,     0,     0,     0,     0,\n",
       "           0,     0,     0,     0,     0,     0,     0,     0,     0,\n",
       "           0,     0,     0,     0,     0,     0,     0,     0,     0,\n",
       "           0,     0,     0,     0,     0,     0,     0,     0,     0,\n",
       "           0,     0,     0,     0,     0,     0,     0,     0,     0,\n",
       "           0,     0,     0,     0,     0,     0,     0,     0,     0,\n",
       "           0,     0,     0,     0,     0,     0,     0,     0,     0,\n",
       "           0,     0,     0,     0,     0,     0,     0,     0,     0,\n",
       "           0,     0,     0,     0,     0,     0,     0,     0,     0,\n",
       "           0,     0,     0,     0,     0,     0,     0,     0,     0,\n",
       "           0,     0,     0,     0,     0,     0,     0,     0,     0,\n",
       "           0,     0,     0,     0,     0,     0,     0,     0,     0,\n",
       "          15,   185,     1,  1011,     5,  5903,    44,  1247,   270,\n",
       "         212,     4,    37,   328,     1,   119,    18,     8,    96,\n",
       "           9,  5213,     2,   191,   510,    67,    17,     1,    62,\n",
       "        5140,   639,    43,     9,     4,    37,  4364,    16,     1,\n",
       "          94,   252,     7,     8,    96,    44,     5,    26,  1804,\n",
       "         798,  4237,  2096,    23,    27,  1229,     2,   313,     7,\n",
       "         155,    32,    36,   120,     1,  1820,   234,  1807,   609,\n",
       "          97,     2,  5140,   176,    27,    37,   326,    24,   161,\n",
       "         211,    69,    83,     8,    96,   154,   794,     1,    62,\n",
       "           4,   405,     7,     1,   222,  2187,   181,     1,   284,\n",
       "         239,    75,    70,    12,     8,     9,    24,    37,  1820,\n",
       "           2,  5140,   238,    26,  7681, 10285,    11,    94,  1146,\n",
       "           7,  1247,   158])"
      ]
     },
     "execution_count": 22,
     "metadata": {},
     "output_type": "execute_result"
    }
   ],
   "source": [
    "train_comments_pad[0]"
   ]
  },
  {
   "cell_type": "markdown",
   "id": "41cdd826-0f2c-4de2-bee1-79a05737d94f",
   "metadata": {},
   "source": [
    "## Model Implemention"
   ]
  },
  {
   "cell_type": "code",
   "execution_count": 90,
   "id": "bafb040e-5fd3-43ed-83f0-bde415bb546a",
   "metadata": {
    "tags": []
   },
   "outputs": [],
   "source": [
    "max_features = 20000\n",
    "rnn_hidden_dim = 5\n",
    "word_embedding_dim = 50"
   ]
  },
  {
   "cell_type": "code",
   "execution_count": 91,
   "id": "81d105e1-54a7-4a36-8ba5-f8ec304273b8",
   "metadata": {
    "tags": []
   },
   "outputs": [
    {
     "name": "stdout",
     "output_type": "stream",
     "text": [
      "Model: \"sequential_5\"\n",
      "_________________________________________________________________\n",
      " Layer (type)                Output Shape              Param #   \n",
      "=================================================================\n",
      " embedding_6 (Embedding)     (None, None, 50)          1000000   \n",
      "                                                                 \n",
      " lstm_5 (LSTM)               (None, 5)                 1120      \n",
      "                                                                 \n",
      " dense_5 (Dense)             (None, 1)                 6         \n",
      "                                                                 \n",
      "=================================================================\n",
      "Total params: 1001126 (3.82 MB)\n",
      "Trainable params: 1001126 (3.82 MB)\n",
      "Non-trainable params: 0 (0.00 Byte)\n",
      "_________________________________________________________________\n"
     ]
    }
   ],
   "source": [
    "## Let's build a RNN\n",
    "model_rnn = Sequential()\n",
    "#This layer takes each integer in the sequence and embeds it in a 50-dimensional vector\n",
    "model_rnn.add(Embedding(max_features, word_embedding_dim))\n",
    "model_rnn.add(LSTM(rnn_hidden_dim,\n",
    "                    kernel_initializer=initializers.RandomNormal(stddev=0.001),\n",
    "                    recurrent_initializer=initializers.Identity(gain=1.0),\n",
    "                    activation='relu',\n",
    "                    input_shape=test_comments_pad.shape[1:]))\n",
    "\n",
    "model_rnn.add(Dense(1, activation='sigmoid'))\n",
    "## Note that most of the parameters come from the embedding layer\n",
    "model_rnn.summary()"
   ]
  },
  {
   "cell_type": "code",
   "execution_count": 94,
   "id": "050fbecc-4b30-4a79-9a4f-9f928a061f16",
   "metadata": {
    "tags": []
   },
   "outputs": [],
   "source": [
    "model_rnn.compile(loss='binary_crossentropy',\n",
    "                  optimizer='adam',\n",
    "                  metrics=['binary_accuracy'])"
   ]
  },
  {
   "cell_type": "code",
   "execution_count": 123,
   "id": "42d77512-ae68-4f29-b77a-988d59fd5e80",
   "metadata": {
    "tags": []
   },
   "outputs": [
    {
     "name": "stdout",
     "output_type": "stream",
     "text": [
      "You must install pydot (`pip install pydot`) and install graphviz (see instructions at https://graphviz.gitlab.io/download/) for plot_model to work.\n"
     ]
    }
   ],
   "source": [
    "plot_model(model_rnn, to_file='model_plot.png', show_shapes=True, show_layer_names=True)"
   ]
  },
  {
   "cell_type": "code",
   "execution_count": 96,
   "id": "eea2d034-2622-48f4-b6ef-45f810d0abc3",
   "metadata": {
    "tags": []
   },
   "outputs": [],
   "source": [
    "weight_path=\"early_weights.hdf5\"\n",
    "checkpoint = ModelCheckpoint(weight_path, monitor='val_loss', verbose=1, save_best_only=True, mode='min')\n",
    "early_stopping = EarlyStopping(monitor=\"val_loss\", mode=\"min\", patience=5)\n",
    "callbacks = [checkpoint, early_stopping]"
   ]
  },
  {
   "cell_type": "code",
   "execution_count": 36,
   "id": "7e3f382f-734e-4c77-99de-3db9044a36b3",
   "metadata": {
    "tags": []
   },
   "outputs": [
    {
     "name": "stdout",
     "output_type": "stream",
     "text": [
      "90000/90000 [==============================] - ETA: 0s - loss: 99835.9844 - binary_accuracy: 0.8700\n",
      "Epoch 1: val_loss improved from inf to 0.20141, saving model to early_weights.hdf5\n",
      "90000/90000 [==============================] - 4777s 53ms/step - loss: 99835.9844 - binary_accuracy: 0.8700 - val_loss: 0.2014 - val_binary_accuracy: 0.9225\n"
     ]
    },
    {
     "data": {
      "text/plain": [
       "<keras.src.callbacks.History at 0x23fc8e9cc10>"
      ]
     },
     "execution_count": 36,
     "metadata": {},
     "output_type": "execute_result"
    }
   ],
   "source": [
    "model_rnn.fit(\n",
    "    train_comments_pad, \n",
    "    train_labels, \n",
    "    batch_size=32,\n",
    "    epochs=1,\n",
    "    validation_data=(val_comments_pad, val_labels), \n",
    "    callbacks=callbacks)"
   ]
  },
  {
   "cell_type": "code",
   "execution_count": 38,
   "id": "7648eb34-cf2b-40b7-ac9b-a13d5781dce1",
   "metadata": {
    "tags": []
   },
   "outputs": [
    {
     "name": "stdout",
     "output_type": "stream",
     "text": [
      "12500/12500 [==============================] - 235s 19ms/step\n",
      "Accuracy score of the RNN Model: 0.932\n",
      "F1 score of the RNN Model: 0.932\n",
      "ROC AUC score of the RNN Model: 0.979\n"
     ]
    }
   ],
   "source": [
    "rnn_preds = model_rnn.predict(test_comments_pad)\n",
    "\n",
    "accuracy_rnn = accuracy_score(test_labels, 1 * (rnn_preds > 0.5))\n",
    "f1_rnn = f1_score(test_labels, 1 * (rnn_preds > 0.5))\n",
    "rocauc_rnn = roc_auc_score(test_labels, rnn_preds)\n",
    "\n",
    "print('Accuracy score of the RNN Model: {:0.3}'.format(accuracy_rnn))\n",
    "print('F1 score of the RNN Model: {:0.3}'.format(f1_rnn))\n",
    "print('ROC AUC score of the RNN Model: {:0.3}'.format(rocauc_rnn))"
   ]
  },
  {
   "cell_type": "code",
   "execution_count": 76,
   "id": "6123b63e-5c6e-4020-8bf2-345b3a8935a9",
   "metadata": {
    "tags": []
   },
   "outputs": [
    {
     "ename": "KeyError",
     "evalue": "'val_acc'",
     "output_type": "error",
     "traceback": [
      "\u001b[1;31m---------------------------------------------------------------------------\u001b[0m",
      "\u001b[1;31mKeyError\u001b[0m                                  Traceback (most recent call last)",
      "Cell \u001b[1;32mIn[76], line 1\u001b[0m\n\u001b[1;32m----> 1\u001b[0m val_acc \u001b[38;5;241m=\u001b[39m \u001b[43mmodel_rnn\u001b[49m\u001b[38;5;241;43m.\u001b[39;49m\u001b[43mhistory\u001b[49m\u001b[38;5;241;43m.\u001b[39;49m\u001b[43mhistory\u001b[49m\u001b[43m[\u001b[49m\u001b[38;5;124;43m\"\u001b[39;49m\u001b[38;5;124;43mval_acc\u001b[39;49m\u001b[38;5;124;43m\"\u001b[39;49m\u001b[43m]\u001b[49m\n\u001b[0;32m      2\u001b[0m val_loss \u001b[38;5;241m=\u001b[39m model_rnn\u001b[38;5;241m.\u001b[39mhistory\u001b[38;5;241m.\u001b[39mhistory[\u001b[38;5;124m\"\u001b[39m\u001b[38;5;124mval_loss\u001b[39m\u001b[38;5;124m\"\u001b[39m]\n",
      "\u001b[1;31mKeyError\u001b[0m: 'val_acc'"
     ]
    }
   ],
   "source": [
    "val_acc = model_rnn.history.history[\"val_acc\"]\n",
    "val_loss = model_rnn.history.history[\"val_loss\"]"
   ]
  },
  {
   "cell_type": "code",
   "execution_count": 71,
   "id": "07063c48-8de2-4c7e-a97d-45e059a931ea",
   "metadata": {
    "tags": []
   },
   "outputs": [
    {
     "ename": "KeyError",
     "evalue": "'accuracy'",
     "output_type": "error",
     "traceback": [
      "\u001b[1;31m---------------------------------------------------------------------------\u001b[0m",
      "\u001b[1;31mKeyError\u001b[0m                                  Traceback (most recent call last)",
      "Cell \u001b[1;32mIn[71], line 1\u001b[0m\n\u001b[1;32m----> 1\u001b[0m acc \u001b[38;5;241m=\u001b[39m \u001b[43mmodel_rnn\u001b[49m\u001b[38;5;241;43m.\u001b[39;49m\u001b[43mhistory\u001b[49m\u001b[38;5;241;43m.\u001b[39;49m\u001b[43mhistory\u001b[49m\u001b[43m[\u001b[49m\u001b[38;5;124;43m\"\u001b[39;49m\u001b[38;5;124;43maccuracy\u001b[39;49m\u001b[38;5;124;43m\"\u001b[39;49m\u001b[43m]\u001b[49m\n\u001b[0;32m      2\u001b[0m loss \u001b[38;5;241m=\u001b[39m model_rnn\u001b[38;5;241m.\u001b[39mhistory\u001b[38;5;241m.\u001b[39mhistory[\u001b[38;5;124m\"\u001b[39m\u001b[38;5;124mloss\u001b[39m\u001b[38;5;124m\"\u001b[39m]\n",
      "\u001b[1;31mKeyError\u001b[0m: 'accuracy'"
     ]
    }
   ],
   "source": [
    "acc = model_rnn.history.history[\"accuracy\"]\n",
    "loss = model_rnn.history.history[\"loss\"]"
   ]
  },
  {
   "cell_type": "code",
   "execution_count": null,
   "id": "8a9dc435-2e7a-4013-8f34-d5a97e15f212",
   "metadata": {},
   "outputs": [],
   "source": [
    "plt.figure(figsize=(9,6))\n",
    "plt.plot(acc,label=\"Training Accuracy\")\n",
    "plt.plot(val_acc,label=\"Validation Accuracy\")\n",
    "plt.legend()\n",
    "plt.ylabel(\"Accuracy\")\n",
    "plt.title(\"Training and Validation Accuracy\")"
   ]
  },
  {
   "cell_type": "code",
   "execution_count": null,
   "id": "a3febca9-1899-4a3a-8b8d-ce5d80c7b4a9",
   "metadata": {},
   "outputs": [],
   "source": [
    "plt.figure(figsize=(9,6))\n",
    "plt.plot(loss,label=\"Training Loss\")\n",
    "plt.plot(val_loss, label=\"Validation Loss\")\n",
    "plt.legend()\n",
    "plt.ylabel(\"Loss\")\n",
    "plt.title(\"Training and Validation Loss\")"
   ]
  }
 ],
 "metadata": {
  "kernelspec": {
   "display_name": "Python 3 (ipykernel)",
   "language": "python",
   "name": "python3"
  },
  "language_info": {
   "codemirror_mode": {
    "name": "ipython",
    "version": 3
   },
   "file_extension": ".py",
   "mimetype": "text/x-python",
   "name": "python",
   "nbconvert_exporter": "python",
   "pygments_lexer": "ipython3",
   "version": "3.9.18"
  }
 },
 "nbformat": 4,
 "nbformat_minor": 5
}
