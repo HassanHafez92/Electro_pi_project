{
 "cells": [
  {
   "cell_type": "markdown",
   "id": "a055592d-4d47-46a9-a217-bf3d3a1f6a45",
   "metadata": {},
   "source": [
    "# Importing Library"
   ]
  },
  {
   "cell_type": "code",
   "execution_count": 1,
   "id": "ea823731-7e1c-457d-a760-59eef7a800d6",
   "metadata": {},
   "outputs": [],
   "source": [
    "# Input data files are available in the read-only \"../input/\" directory\n",
    "# For example, running this (by clicking run or pressing Shift+Enter) will list all files under the input directory\n",
    "import warnings\n",
    "import os\n",
    "for dirname, _, filenames in os.walk('/kaggle/input'):\n",
    "    for filename in filenames:\n",
    "        print(os.path.join(dirname, filename))\n",
    "        \n",
    "warnings.filterwarnings('ignore')\n",
    "\n",
    "import pandas as pd\n",
    "import numpy as np\n",
    "\n",
    "import sys\n",
    "\n",
    "import torch\n",
    "from torch import nn\n",
    "import torch.nn.functional as F\n",
    "\n",
    "from sklearn.model_selection import train_test_split\n",
    "from sklearn.preprocessing import StandardScaler, LabelEncoder\n",
    "\n",
    "import matplotlib.pyplot as plt\n",
    "import seaborn as sns\n",
    "\n",
    "from scipy import stats\n",
    "\n",
    "%matplotlib inline"
   ]
  },
  {
   "cell_type": "code",
   "execution_count": 2,
   "id": "a8382b48-439f-45be-9fbb-927cea1f50a2",
   "metadata": {
    "scrolled": true
   },
   "outputs": [
    {
     "data": {
      "text/html": [
       "<div>\n",
       "<style scoped>\n",
       "    .dataframe tbody tr th:only-of-type {\n",
       "        vertical-align: middle;\n",
       "    }\n",
       "\n",
       "    .dataframe tbody tr th {\n",
       "        vertical-align: top;\n",
       "    }\n",
       "\n",
       "    .dataframe thead th {\n",
       "        text-align: right;\n",
       "    }\n",
       "</style>\n",
       "<table border=\"1\" class=\"dataframe\">\n",
       "  <thead>\n",
       "    <tr style=\"text-align: right;\">\n",
       "      <th></th>\n",
       "      <th>age</th>\n",
       "      <th>job</th>\n",
       "      <th>marital</th>\n",
       "      <th>education</th>\n",
       "      <th>default</th>\n",
       "      <th>housing</th>\n",
       "      <th>loan</th>\n",
       "      <th>contact</th>\n",
       "      <th>month</th>\n",
       "      <th>day_of_week</th>\n",
       "      <th>...</th>\n",
       "      <th>campaign</th>\n",
       "      <th>pdays</th>\n",
       "      <th>previous</th>\n",
       "      <th>poutcome</th>\n",
       "      <th>emp.var.rate</th>\n",
       "      <th>cons.price.idx</th>\n",
       "      <th>cons.conf.idx</th>\n",
       "      <th>euribor3m</th>\n",
       "      <th>nr.employed</th>\n",
       "      <th>y</th>\n",
       "    </tr>\n",
       "  </thead>\n",
       "  <tbody>\n",
       "    <tr>\n",
       "      <th>0</th>\n",
       "      <td>56</td>\n",
       "      <td>housemaid</td>\n",
       "      <td>married</td>\n",
       "      <td>basic.4y</td>\n",
       "      <td>no</td>\n",
       "      <td>no</td>\n",
       "      <td>no</td>\n",
       "      <td>telephone</td>\n",
       "      <td>may</td>\n",
       "      <td>mon</td>\n",
       "      <td>...</td>\n",
       "      <td>1</td>\n",
       "      <td>999</td>\n",
       "      <td>0</td>\n",
       "      <td>nonexistent</td>\n",
       "      <td>1.1</td>\n",
       "      <td>93.994</td>\n",
       "      <td>-36.4</td>\n",
       "      <td>4.857</td>\n",
       "      <td>5191.0</td>\n",
       "      <td>no</td>\n",
       "    </tr>\n",
       "    <tr>\n",
       "      <th>1</th>\n",
       "      <td>57</td>\n",
       "      <td>services</td>\n",
       "      <td>married</td>\n",
       "      <td>high.school</td>\n",
       "      <td>unknown</td>\n",
       "      <td>no</td>\n",
       "      <td>no</td>\n",
       "      <td>telephone</td>\n",
       "      <td>may</td>\n",
       "      <td>mon</td>\n",
       "      <td>...</td>\n",
       "      <td>1</td>\n",
       "      <td>999</td>\n",
       "      <td>0</td>\n",
       "      <td>nonexistent</td>\n",
       "      <td>1.1</td>\n",
       "      <td>93.994</td>\n",
       "      <td>-36.4</td>\n",
       "      <td>4.857</td>\n",
       "      <td>5191.0</td>\n",
       "      <td>no</td>\n",
       "    </tr>\n",
       "    <tr>\n",
       "      <th>2</th>\n",
       "      <td>37</td>\n",
       "      <td>services</td>\n",
       "      <td>married</td>\n",
       "      <td>high.school</td>\n",
       "      <td>no</td>\n",
       "      <td>yes</td>\n",
       "      <td>no</td>\n",
       "      <td>telephone</td>\n",
       "      <td>may</td>\n",
       "      <td>mon</td>\n",
       "      <td>...</td>\n",
       "      <td>1</td>\n",
       "      <td>999</td>\n",
       "      <td>0</td>\n",
       "      <td>nonexistent</td>\n",
       "      <td>1.1</td>\n",
       "      <td>93.994</td>\n",
       "      <td>-36.4</td>\n",
       "      <td>4.857</td>\n",
       "      <td>5191.0</td>\n",
       "      <td>no</td>\n",
       "    </tr>\n",
       "    <tr>\n",
       "      <th>3</th>\n",
       "      <td>40</td>\n",
       "      <td>admin.</td>\n",
       "      <td>married</td>\n",
       "      <td>basic.6y</td>\n",
       "      <td>no</td>\n",
       "      <td>no</td>\n",
       "      <td>no</td>\n",
       "      <td>telephone</td>\n",
       "      <td>may</td>\n",
       "      <td>mon</td>\n",
       "      <td>...</td>\n",
       "      <td>1</td>\n",
       "      <td>999</td>\n",
       "      <td>0</td>\n",
       "      <td>nonexistent</td>\n",
       "      <td>1.1</td>\n",
       "      <td>93.994</td>\n",
       "      <td>-36.4</td>\n",
       "      <td>4.857</td>\n",
       "      <td>5191.0</td>\n",
       "      <td>no</td>\n",
       "    </tr>\n",
       "    <tr>\n",
       "      <th>4</th>\n",
       "      <td>56</td>\n",
       "      <td>services</td>\n",
       "      <td>married</td>\n",
       "      <td>high.school</td>\n",
       "      <td>no</td>\n",
       "      <td>no</td>\n",
       "      <td>yes</td>\n",
       "      <td>telephone</td>\n",
       "      <td>may</td>\n",
       "      <td>mon</td>\n",
       "      <td>...</td>\n",
       "      <td>1</td>\n",
       "      <td>999</td>\n",
       "      <td>0</td>\n",
       "      <td>nonexistent</td>\n",
       "      <td>1.1</td>\n",
       "      <td>93.994</td>\n",
       "      <td>-36.4</td>\n",
       "      <td>4.857</td>\n",
       "      <td>5191.0</td>\n",
       "      <td>no</td>\n",
       "    </tr>\n",
       "    <tr>\n",
       "      <th>...</th>\n",
       "      <td>...</td>\n",
       "      <td>...</td>\n",
       "      <td>...</td>\n",
       "      <td>...</td>\n",
       "      <td>...</td>\n",
       "      <td>...</td>\n",
       "      <td>...</td>\n",
       "      <td>...</td>\n",
       "      <td>...</td>\n",
       "      <td>...</td>\n",
       "      <td>...</td>\n",
       "      <td>...</td>\n",
       "      <td>...</td>\n",
       "      <td>...</td>\n",
       "      <td>...</td>\n",
       "      <td>...</td>\n",
       "      <td>...</td>\n",
       "      <td>...</td>\n",
       "      <td>...</td>\n",
       "      <td>...</td>\n",
       "      <td>...</td>\n",
       "    </tr>\n",
       "    <tr>\n",
       "      <th>41183</th>\n",
       "      <td>73</td>\n",
       "      <td>retired</td>\n",
       "      <td>married</td>\n",
       "      <td>professional.course</td>\n",
       "      <td>no</td>\n",
       "      <td>yes</td>\n",
       "      <td>no</td>\n",
       "      <td>cellular</td>\n",
       "      <td>nov</td>\n",
       "      <td>fri</td>\n",
       "      <td>...</td>\n",
       "      <td>1</td>\n",
       "      <td>999</td>\n",
       "      <td>0</td>\n",
       "      <td>nonexistent</td>\n",
       "      <td>-1.1</td>\n",
       "      <td>94.767</td>\n",
       "      <td>-50.8</td>\n",
       "      <td>1.028</td>\n",
       "      <td>4963.6</td>\n",
       "      <td>yes</td>\n",
       "    </tr>\n",
       "    <tr>\n",
       "      <th>41184</th>\n",
       "      <td>46</td>\n",
       "      <td>blue-collar</td>\n",
       "      <td>married</td>\n",
       "      <td>professional.course</td>\n",
       "      <td>no</td>\n",
       "      <td>no</td>\n",
       "      <td>no</td>\n",
       "      <td>cellular</td>\n",
       "      <td>nov</td>\n",
       "      <td>fri</td>\n",
       "      <td>...</td>\n",
       "      <td>1</td>\n",
       "      <td>999</td>\n",
       "      <td>0</td>\n",
       "      <td>nonexistent</td>\n",
       "      <td>-1.1</td>\n",
       "      <td>94.767</td>\n",
       "      <td>-50.8</td>\n",
       "      <td>1.028</td>\n",
       "      <td>4963.6</td>\n",
       "      <td>no</td>\n",
       "    </tr>\n",
       "    <tr>\n",
       "      <th>41185</th>\n",
       "      <td>56</td>\n",
       "      <td>retired</td>\n",
       "      <td>married</td>\n",
       "      <td>university.degree</td>\n",
       "      <td>no</td>\n",
       "      <td>yes</td>\n",
       "      <td>no</td>\n",
       "      <td>cellular</td>\n",
       "      <td>nov</td>\n",
       "      <td>fri</td>\n",
       "      <td>...</td>\n",
       "      <td>2</td>\n",
       "      <td>999</td>\n",
       "      <td>0</td>\n",
       "      <td>nonexistent</td>\n",
       "      <td>-1.1</td>\n",
       "      <td>94.767</td>\n",
       "      <td>-50.8</td>\n",
       "      <td>1.028</td>\n",
       "      <td>4963.6</td>\n",
       "      <td>no</td>\n",
       "    </tr>\n",
       "    <tr>\n",
       "      <th>41186</th>\n",
       "      <td>44</td>\n",
       "      <td>technician</td>\n",
       "      <td>married</td>\n",
       "      <td>professional.course</td>\n",
       "      <td>no</td>\n",
       "      <td>no</td>\n",
       "      <td>no</td>\n",
       "      <td>cellular</td>\n",
       "      <td>nov</td>\n",
       "      <td>fri</td>\n",
       "      <td>...</td>\n",
       "      <td>1</td>\n",
       "      <td>999</td>\n",
       "      <td>0</td>\n",
       "      <td>nonexistent</td>\n",
       "      <td>-1.1</td>\n",
       "      <td>94.767</td>\n",
       "      <td>-50.8</td>\n",
       "      <td>1.028</td>\n",
       "      <td>4963.6</td>\n",
       "      <td>yes</td>\n",
       "    </tr>\n",
       "    <tr>\n",
       "      <th>41187</th>\n",
       "      <td>74</td>\n",
       "      <td>retired</td>\n",
       "      <td>married</td>\n",
       "      <td>professional.course</td>\n",
       "      <td>no</td>\n",
       "      <td>yes</td>\n",
       "      <td>no</td>\n",
       "      <td>cellular</td>\n",
       "      <td>nov</td>\n",
       "      <td>fri</td>\n",
       "      <td>...</td>\n",
       "      <td>3</td>\n",
       "      <td>999</td>\n",
       "      <td>1</td>\n",
       "      <td>failure</td>\n",
       "      <td>-1.1</td>\n",
       "      <td>94.767</td>\n",
       "      <td>-50.8</td>\n",
       "      <td>1.028</td>\n",
       "      <td>4963.6</td>\n",
       "      <td>no</td>\n",
       "    </tr>\n",
       "  </tbody>\n",
       "</table>\n",
       "<p>41188 rows × 21 columns</p>\n",
       "</div>"
      ],
      "text/plain": [
       "       age          job  marital            education  default housing loan  \\\n",
       "0       56    housemaid  married             basic.4y       no      no   no   \n",
       "1       57     services  married          high.school  unknown      no   no   \n",
       "2       37     services  married          high.school       no     yes   no   \n",
       "3       40       admin.  married             basic.6y       no      no   no   \n",
       "4       56     services  married          high.school       no      no  yes   \n",
       "...    ...          ...      ...                  ...      ...     ...  ...   \n",
       "41183   73      retired  married  professional.course       no     yes   no   \n",
       "41184   46  blue-collar  married  professional.course       no      no   no   \n",
       "41185   56      retired  married    university.degree       no     yes   no   \n",
       "41186   44   technician  married  professional.course       no      no   no   \n",
       "41187   74      retired  married  professional.course       no     yes   no   \n",
       "\n",
       "         contact month day_of_week  ...  campaign  pdays  previous  \\\n",
       "0      telephone   may         mon  ...         1    999         0   \n",
       "1      telephone   may         mon  ...         1    999         0   \n",
       "2      telephone   may         mon  ...         1    999         0   \n",
       "3      telephone   may         mon  ...         1    999         0   \n",
       "4      telephone   may         mon  ...         1    999         0   \n",
       "...          ...   ...         ...  ...       ...    ...       ...   \n",
       "41183   cellular   nov         fri  ...         1    999         0   \n",
       "41184   cellular   nov         fri  ...         1    999         0   \n",
       "41185   cellular   nov         fri  ...         2    999         0   \n",
       "41186   cellular   nov         fri  ...         1    999         0   \n",
       "41187   cellular   nov         fri  ...         3    999         1   \n",
       "\n",
       "          poutcome emp.var.rate  cons.price.idx  cons.conf.idx  euribor3m  \\\n",
       "0      nonexistent          1.1          93.994          -36.4      4.857   \n",
       "1      nonexistent          1.1          93.994          -36.4      4.857   \n",
       "2      nonexistent          1.1          93.994          -36.4      4.857   \n",
       "3      nonexistent          1.1          93.994          -36.4      4.857   \n",
       "4      nonexistent          1.1          93.994          -36.4      4.857   \n",
       "...            ...          ...             ...            ...        ...   \n",
       "41183  nonexistent         -1.1          94.767          -50.8      1.028   \n",
       "41184  nonexistent         -1.1          94.767          -50.8      1.028   \n",
       "41185  nonexistent         -1.1          94.767          -50.8      1.028   \n",
       "41186  nonexistent         -1.1          94.767          -50.8      1.028   \n",
       "41187      failure         -1.1          94.767          -50.8      1.028   \n",
       "\n",
       "       nr.employed    y  \n",
       "0           5191.0   no  \n",
       "1           5191.0   no  \n",
       "2           5191.0   no  \n",
       "3           5191.0   no  \n",
       "4           5191.0   no  \n",
       "...            ...  ...  \n",
       "41183       4963.6  yes  \n",
       "41184       4963.6   no  \n",
       "41185       4963.6   no  \n",
       "41186       4963.6  yes  \n",
       "41187       4963.6   no  \n",
       "\n",
       "[41188 rows x 21 columns]"
      ]
     },
     "execution_count": 2,
     "metadata": {},
     "output_type": "execute_result"
    }
   ],
   "source": [
    "df = pd.read_csv('bank-additional-full.csv', delimiter=';')\n",
    "df"
   ]
  },
  {
   "cell_type": "markdown",
   "id": "c12b6535-825a-4c43-8209-6dfbbb4383bf",
   "metadata": {},
   "source": [
    "## Data dictionary"
   ]
  },
  {
   "cell_type": "markdown",
   "id": "9fa0b2be-db96-4bda-926d-a2821413962e",
   "metadata": {},
   "source": [
    "1. age (numeric)\n",
    "2. job : type of job (categorical: 'admin.','blue-collar','entrepreneur','housemaid','management','retired','self-employed','services','student','technician','unemployed','unknown')\n",
    "3. marital : marital status (categorical: 'divorced','married','single','unknown'; note: 'divorced' means divorced or widowed)\n",
    "4. education (categorical: 'basic.4y','basic.6y','basic.9y','high.school','illiterate','professional.course','university.degree','unknown')\n",
    "5. default: has credit in default? (categorical: 'no','yes','unknown')\n",
    "6. housing: has housing loan? (categorical: 'no','yes','unknown')\n",
    "7. loan: has personal loan? (categorical: 'no','yes','unknown')\n",
    "8. contact: contact communication type (categorical: 'cellular','telephone') \n",
    "9. month: last contact month of year (categorical: 'jan', 'feb', 'mar', ..., 'nov', 'dec')\n",
    "10. day_of_week: last contact day of the week (categorical: 'mon','tue','wed','thu','fri')\n",
    "11. duration: last contact duration, in seconds (numeric). Important note: this attribute highly affects the output target (e.g., if duration=0 then y='no'). Yet, the duration is not known before a call is performed. Also, after the end of the call y is obviously known. Thus, this input should only be included for benchmark purposes and should be discarded if the intention is to have a realistic predictive model.\n",
    "12. campaign: number of contacts performed during this campaign and for this client (numeric, includes last contact)\n",
    "13. pdays: number of days that passed by after the client was last contacted from a previous campaign (numeric; 999 means client was not previously contacted)\n",
    "14. previous: number of contacts performed before this campaign and for this client (numeric)\n",
    "15. poutcome: outcome of the previous marketing campaign (categorical: 'failure','nonexistent','success')\n",
    "16. emp.var.rate: employment variation rate - quarterly indicator (numeric)\n",
    "17. cons.price.idx: consumer price index - monthly indicator (numeric) \n",
    "18. cons.conf.idx: consumer confidence index - monthly indicator (numeric) \n",
    "19. euribor3m: euribor 3 month rate - daily indicator (numeric)\n",
    "20. nr.employed: number of employees - quarterly indicator (numeric)"
   ]
  },
  {
   "cell_type": "code",
   "execution_count": 3,
   "id": "f0c8197a-05ef-4c94-9d4d-e63e3db3fb98",
   "metadata": {},
   "outputs": [
    {
     "name": "stdout",
     "output_type": "stream",
     "text": [
      "<class 'pandas.core.frame.DataFrame'>\n",
      "RangeIndex: 41188 entries, 0 to 41187\n",
      "Data columns (total 21 columns):\n",
      " #   Column          Non-Null Count  Dtype  \n",
      "---  ------          --------------  -----  \n",
      " 0   age             41188 non-null  int64  \n",
      " 1   job             41188 non-null  object \n",
      " 2   marital         41188 non-null  object \n",
      " 3   education       41188 non-null  object \n",
      " 4   default         41188 non-null  object \n",
      " 5   housing         41188 non-null  object \n",
      " 6   loan            41188 non-null  object \n",
      " 7   contact         41188 non-null  object \n",
      " 8   month           41188 non-null  object \n",
      " 9   day_of_week     41188 non-null  object \n",
      " 10  duration        41188 non-null  int64  \n",
      " 11  campaign        41188 non-null  int64  \n",
      " 12  pdays           41188 non-null  int64  \n",
      " 13  previous        41188 non-null  int64  \n",
      " 14  poutcome        41188 non-null  object \n",
      " 15  emp.var.rate    41188 non-null  float64\n",
      " 16  cons.price.idx  41188 non-null  float64\n",
      " 17  cons.conf.idx   41188 non-null  float64\n",
      " 18  euribor3m       41188 non-null  float64\n",
      " 19  nr.employed     41188 non-null  float64\n",
      " 20  y               41188 non-null  object \n",
      "dtypes: float64(5), int64(5), object(11)\n",
      "memory usage: 6.6+ MB\n"
     ]
    }
   ],
   "source": [
    "# Looking at statistics of our data\n",
    "df.info()"
   ]
  },
  {
   "cell_type": "code",
   "execution_count": 4,
   "id": "97a021dd-6f0c-4047-9aab-dd7971bec0a3",
   "metadata": {},
   "outputs": [
    {
     "data": {
      "text/html": [
       "<div>\n",
       "<style scoped>\n",
       "    .dataframe tbody tr th:only-of-type {\n",
       "        vertical-align: middle;\n",
       "    }\n",
       "\n",
       "    .dataframe tbody tr th {\n",
       "        vertical-align: top;\n",
       "    }\n",
       "\n",
       "    .dataframe thead th {\n",
       "        text-align: right;\n",
       "    }\n",
       "</style>\n",
       "<table border=\"1\" class=\"dataframe\">\n",
       "  <thead>\n",
       "    <tr style=\"text-align: right;\">\n",
       "      <th></th>\n",
       "      <th>age</th>\n",
       "      <th>job</th>\n",
       "      <th>marital</th>\n",
       "      <th>education</th>\n",
       "      <th>default</th>\n",
       "      <th>housing</th>\n",
       "      <th>loan</th>\n",
       "      <th>contact</th>\n",
       "      <th>month</th>\n",
       "      <th>day_of_week</th>\n",
       "      <th>...</th>\n",
       "      <th>campaign</th>\n",
       "      <th>pdays</th>\n",
       "      <th>previous</th>\n",
       "      <th>poutcome</th>\n",
       "      <th>emp.var.rate</th>\n",
       "      <th>cons.price.idx</th>\n",
       "      <th>cons.conf.idx</th>\n",
       "      <th>euribor3m</th>\n",
       "      <th>nr.employed</th>\n",
       "      <th>y</th>\n",
       "    </tr>\n",
       "  </thead>\n",
       "  <tbody>\n",
       "  </tbody>\n",
       "</table>\n",
       "<p>0 rows × 21 columns</p>\n",
       "</div>"
      ],
      "text/plain": [
       "Empty DataFrame\n",
       "Columns: [age, job, marital, education, default, housing, loan, contact, month, day_of_week, duration, campaign, pdays, previous, poutcome, emp.var.rate, cons.price.idx, cons.conf.idx, euribor3m, nr.employed, y]\n",
       "Index: []\n",
       "\n",
       "[0 rows x 21 columns]"
      ]
     },
     "execution_count": 4,
     "metadata": {},
     "output_type": "execute_result"
    }
   ],
   "source": [
    "df.drop_duplicates(inplace=True)\n",
    "df[df.duplicated(keep=False)]"
   ]
  },
  {
   "cell_type": "code",
   "execution_count": 5,
   "id": "a466ef46-04a7-435b-b646-0a64ce806a1a",
   "metadata": {
    "scrolled": true
   },
   "outputs": [
    {
     "data": {
      "text/plain": [
       "0        0\n",
       "1        0\n",
       "2        0\n",
       "3        0\n",
       "4        0\n",
       "        ..\n",
       "41183    1\n",
       "41184    0\n",
       "41185    0\n",
       "41186    1\n",
       "41187    0\n",
       "Name: y, Length: 41176, dtype: int32"
      ]
     },
     "execution_count": 5,
     "metadata": {},
     "output_type": "execute_result"
    }
   ],
   "source": [
    "# Converting categorical into boolean using get_dummies \n",
    "# Getting the predicted values in terms of 0 and 1\n",
    "Y = (df['y'] == 'yes')*1\n",
    "Y"
   ]
  },
  {
   "cell_type": "code",
   "execution_count": 6,
   "id": "dd622c27-f336-4dc2-bfb6-c4617ecfa8c6",
   "metadata": {},
   "outputs": [
    {
     "data": {
      "text/html": [
       "<div>\n",
       "<style scoped>\n",
       "    .dataframe tbody tr th:only-of-type {\n",
       "        vertical-align: middle;\n",
       "    }\n",
       "\n",
       "    .dataframe tbody tr th {\n",
       "        vertical-align: top;\n",
       "    }\n",
       "\n",
       "    .dataframe thead th {\n",
       "        text-align: right;\n",
       "    }\n",
       "</style>\n",
       "<table border=\"1\" class=\"dataframe\">\n",
       "  <thead>\n",
       "    <tr style=\"text-align: right;\">\n",
       "      <th></th>\n",
       "      <th>age</th>\n",
       "      <th>job</th>\n",
       "      <th>marital</th>\n",
       "      <th>education</th>\n",
       "      <th>default</th>\n",
       "      <th>housing</th>\n",
       "      <th>loan</th>\n",
       "      <th>contact</th>\n",
       "      <th>month</th>\n",
       "      <th>day_of_week</th>\n",
       "      <th>duration</th>\n",
       "      <th>campaign</th>\n",
       "      <th>pdays</th>\n",
       "      <th>previous</th>\n",
       "      <th>poutcome</th>\n",
       "      <th>emp.var.rate</th>\n",
       "      <th>cons.price.idx</th>\n",
       "      <th>cons.conf.idx</th>\n",
       "      <th>euribor3m</th>\n",
       "      <th>nr.employed</th>\n",
       "    </tr>\n",
       "  </thead>\n",
       "  <tbody>\n",
       "    <tr>\n",
       "      <th>0</th>\n",
       "      <td>56</td>\n",
       "      <td>housemaid</td>\n",
       "      <td>married</td>\n",
       "      <td>basic.4y</td>\n",
       "      <td>no</td>\n",
       "      <td>no</td>\n",
       "      <td>no</td>\n",
       "      <td>telephone</td>\n",
       "      <td>may</td>\n",
       "      <td>mon</td>\n",
       "      <td>261</td>\n",
       "      <td>1</td>\n",
       "      <td>999</td>\n",
       "      <td>0</td>\n",
       "      <td>nonexistent</td>\n",
       "      <td>1.1</td>\n",
       "      <td>93.994</td>\n",
       "      <td>-36.4</td>\n",
       "      <td>4.857</td>\n",
       "      <td>5191.0</td>\n",
       "    </tr>\n",
       "    <tr>\n",
       "      <th>1</th>\n",
       "      <td>57</td>\n",
       "      <td>services</td>\n",
       "      <td>married</td>\n",
       "      <td>high.school</td>\n",
       "      <td>unknown</td>\n",
       "      <td>no</td>\n",
       "      <td>no</td>\n",
       "      <td>telephone</td>\n",
       "      <td>may</td>\n",
       "      <td>mon</td>\n",
       "      <td>149</td>\n",
       "      <td>1</td>\n",
       "      <td>999</td>\n",
       "      <td>0</td>\n",
       "      <td>nonexistent</td>\n",
       "      <td>1.1</td>\n",
       "      <td>93.994</td>\n",
       "      <td>-36.4</td>\n",
       "      <td>4.857</td>\n",
       "      <td>5191.0</td>\n",
       "    </tr>\n",
       "    <tr>\n",
       "      <th>2</th>\n",
       "      <td>37</td>\n",
       "      <td>services</td>\n",
       "      <td>married</td>\n",
       "      <td>high.school</td>\n",
       "      <td>no</td>\n",
       "      <td>yes</td>\n",
       "      <td>no</td>\n",
       "      <td>telephone</td>\n",
       "      <td>may</td>\n",
       "      <td>mon</td>\n",
       "      <td>226</td>\n",
       "      <td>1</td>\n",
       "      <td>999</td>\n",
       "      <td>0</td>\n",
       "      <td>nonexistent</td>\n",
       "      <td>1.1</td>\n",
       "      <td>93.994</td>\n",
       "      <td>-36.4</td>\n",
       "      <td>4.857</td>\n",
       "      <td>5191.0</td>\n",
       "    </tr>\n",
       "    <tr>\n",
       "      <th>3</th>\n",
       "      <td>40</td>\n",
       "      <td>admin.</td>\n",
       "      <td>married</td>\n",
       "      <td>basic.6y</td>\n",
       "      <td>no</td>\n",
       "      <td>no</td>\n",
       "      <td>no</td>\n",
       "      <td>telephone</td>\n",
       "      <td>may</td>\n",
       "      <td>mon</td>\n",
       "      <td>151</td>\n",
       "      <td>1</td>\n",
       "      <td>999</td>\n",
       "      <td>0</td>\n",
       "      <td>nonexistent</td>\n",
       "      <td>1.1</td>\n",
       "      <td>93.994</td>\n",
       "      <td>-36.4</td>\n",
       "      <td>4.857</td>\n",
       "      <td>5191.0</td>\n",
       "    </tr>\n",
       "    <tr>\n",
       "      <th>4</th>\n",
       "      <td>56</td>\n",
       "      <td>services</td>\n",
       "      <td>married</td>\n",
       "      <td>high.school</td>\n",
       "      <td>no</td>\n",
       "      <td>no</td>\n",
       "      <td>yes</td>\n",
       "      <td>telephone</td>\n",
       "      <td>may</td>\n",
       "      <td>mon</td>\n",
       "      <td>307</td>\n",
       "      <td>1</td>\n",
       "      <td>999</td>\n",
       "      <td>0</td>\n",
       "      <td>nonexistent</td>\n",
       "      <td>1.1</td>\n",
       "      <td>93.994</td>\n",
       "      <td>-36.4</td>\n",
       "      <td>4.857</td>\n",
       "      <td>5191.0</td>\n",
       "    </tr>\n",
       "    <tr>\n",
       "      <th>...</th>\n",
       "      <td>...</td>\n",
       "      <td>...</td>\n",
       "      <td>...</td>\n",
       "      <td>...</td>\n",
       "      <td>...</td>\n",
       "      <td>...</td>\n",
       "      <td>...</td>\n",
       "      <td>...</td>\n",
       "      <td>...</td>\n",
       "      <td>...</td>\n",
       "      <td>...</td>\n",
       "      <td>...</td>\n",
       "      <td>...</td>\n",
       "      <td>...</td>\n",
       "      <td>...</td>\n",
       "      <td>...</td>\n",
       "      <td>...</td>\n",
       "      <td>...</td>\n",
       "      <td>...</td>\n",
       "      <td>...</td>\n",
       "    </tr>\n",
       "    <tr>\n",
       "      <th>41183</th>\n",
       "      <td>73</td>\n",
       "      <td>retired</td>\n",
       "      <td>married</td>\n",
       "      <td>professional.course</td>\n",
       "      <td>no</td>\n",
       "      <td>yes</td>\n",
       "      <td>no</td>\n",
       "      <td>cellular</td>\n",
       "      <td>nov</td>\n",
       "      <td>fri</td>\n",
       "      <td>334</td>\n",
       "      <td>1</td>\n",
       "      <td>999</td>\n",
       "      <td>0</td>\n",
       "      <td>nonexistent</td>\n",
       "      <td>-1.1</td>\n",
       "      <td>94.767</td>\n",
       "      <td>-50.8</td>\n",
       "      <td>1.028</td>\n",
       "      <td>4963.6</td>\n",
       "    </tr>\n",
       "    <tr>\n",
       "      <th>41184</th>\n",
       "      <td>46</td>\n",
       "      <td>blue-collar</td>\n",
       "      <td>married</td>\n",
       "      <td>professional.course</td>\n",
       "      <td>no</td>\n",
       "      <td>no</td>\n",
       "      <td>no</td>\n",
       "      <td>cellular</td>\n",
       "      <td>nov</td>\n",
       "      <td>fri</td>\n",
       "      <td>383</td>\n",
       "      <td>1</td>\n",
       "      <td>999</td>\n",
       "      <td>0</td>\n",
       "      <td>nonexistent</td>\n",
       "      <td>-1.1</td>\n",
       "      <td>94.767</td>\n",
       "      <td>-50.8</td>\n",
       "      <td>1.028</td>\n",
       "      <td>4963.6</td>\n",
       "    </tr>\n",
       "    <tr>\n",
       "      <th>41185</th>\n",
       "      <td>56</td>\n",
       "      <td>retired</td>\n",
       "      <td>married</td>\n",
       "      <td>university.degree</td>\n",
       "      <td>no</td>\n",
       "      <td>yes</td>\n",
       "      <td>no</td>\n",
       "      <td>cellular</td>\n",
       "      <td>nov</td>\n",
       "      <td>fri</td>\n",
       "      <td>189</td>\n",
       "      <td>2</td>\n",
       "      <td>999</td>\n",
       "      <td>0</td>\n",
       "      <td>nonexistent</td>\n",
       "      <td>-1.1</td>\n",
       "      <td>94.767</td>\n",
       "      <td>-50.8</td>\n",
       "      <td>1.028</td>\n",
       "      <td>4963.6</td>\n",
       "    </tr>\n",
       "    <tr>\n",
       "      <th>41186</th>\n",
       "      <td>44</td>\n",
       "      <td>technician</td>\n",
       "      <td>married</td>\n",
       "      <td>professional.course</td>\n",
       "      <td>no</td>\n",
       "      <td>no</td>\n",
       "      <td>no</td>\n",
       "      <td>cellular</td>\n",
       "      <td>nov</td>\n",
       "      <td>fri</td>\n",
       "      <td>442</td>\n",
       "      <td>1</td>\n",
       "      <td>999</td>\n",
       "      <td>0</td>\n",
       "      <td>nonexistent</td>\n",
       "      <td>-1.1</td>\n",
       "      <td>94.767</td>\n",
       "      <td>-50.8</td>\n",
       "      <td>1.028</td>\n",
       "      <td>4963.6</td>\n",
       "    </tr>\n",
       "    <tr>\n",
       "      <th>41187</th>\n",
       "      <td>74</td>\n",
       "      <td>retired</td>\n",
       "      <td>married</td>\n",
       "      <td>professional.course</td>\n",
       "      <td>no</td>\n",
       "      <td>yes</td>\n",
       "      <td>no</td>\n",
       "      <td>cellular</td>\n",
       "      <td>nov</td>\n",
       "      <td>fri</td>\n",
       "      <td>239</td>\n",
       "      <td>3</td>\n",
       "      <td>999</td>\n",
       "      <td>1</td>\n",
       "      <td>failure</td>\n",
       "      <td>-1.1</td>\n",
       "      <td>94.767</td>\n",
       "      <td>-50.8</td>\n",
       "      <td>1.028</td>\n",
       "      <td>4963.6</td>\n",
       "    </tr>\n",
       "  </tbody>\n",
       "</table>\n",
       "<p>41176 rows × 20 columns</p>\n",
       "</div>"
      ],
      "text/plain": [
       "       age          job  marital            education  default housing loan  \\\n",
       "0       56    housemaid  married             basic.4y       no      no   no   \n",
       "1       57     services  married          high.school  unknown      no   no   \n",
       "2       37     services  married          high.school       no     yes   no   \n",
       "3       40       admin.  married             basic.6y       no      no   no   \n",
       "4       56     services  married          high.school       no      no  yes   \n",
       "...    ...          ...      ...                  ...      ...     ...  ...   \n",
       "41183   73      retired  married  professional.course       no     yes   no   \n",
       "41184   46  blue-collar  married  professional.course       no      no   no   \n",
       "41185   56      retired  married    university.degree       no     yes   no   \n",
       "41186   44   technician  married  professional.course       no      no   no   \n",
       "41187   74      retired  married  professional.course       no     yes   no   \n",
       "\n",
       "         contact month day_of_week  duration  campaign  pdays  previous  \\\n",
       "0      telephone   may         mon       261         1    999         0   \n",
       "1      telephone   may         mon       149         1    999         0   \n",
       "2      telephone   may         mon       226         1    999         0   \n",
       "3      telephone   may         mon       151         1    999         0   \n",
       "4      telephone   may         mon       307         1    999         0   \n",
       "...          ...   ...         ...       ...       ...    ...       ...   \n",
       "41183   cellular   nov         fri       334         1    999         0   \n",
       "41184   cellular   nov         fri       383         1    999         0   \n",
       "41185   cellular   nov         fri       189         2    999         0   \n",
       "41186   cellular   nov         fri       442         1    999         0   \n",
       "41187   cellular   nov         fri       239         3    999         1   \n",
       "\n",
       "          poutcome  emp.var.rate  cons.price.idx  cons.conf.idx  euribor3m  \\\n",
       "0      nonexistent           1.1          93.994          -36.4      4.857   \n",
       "1      nonexistent           1.1          93.994          -36.4      4.857   \n",
       "2      nonexistent           1.1          93.994          -36.4      4.857   \n",
       "3      nonexistent           1.1          93.994          -36.4      4.857   \n",
       "4      nonexistent           1.1          93.994          -36.4      4.857   \n",
       "...            ...           ...             ...            ...        ...   \n",
       "41183  nonexistent          -1.1          94.767          -50.8      1.028   \n",
       "41184  nonexistent          -1.1          94.767          -50.8      1.028   \n",
       "41185  nonexistent          -1.1          94.767          -50.8      1.028   \n",
       "41186  nonexistent          -1.1          94.767          -50.8      1.028   \n",
       "41187      failure          -1.1          94.767          -50.8      1.028   \n",
       "\n",
       "       nr.employed  \n",
       "0           5191.0  \n",
       "1           5191.0  \n",
       "2           5191.0  \n",
       "3           5191.0  \n",
       "4           5191.0  \n",
       "...            ...  \n",
       "41183       4963.6  \n",
       "41184       4963.6  \n",
       "41185       4963.6  \n",
       "41186       4963.6  \n",
       "41187       4963.6  \n",
       "\n",
       "[41176 rows x 20 columns]"
      ]
     },
     "execution_count": 6,
     "metadata": {},
     "output_type": "execute_result"
    }
   ],
   "source": [
    "# Get X\n",
    "X = df.drop(\"y\", axis=1)\n",
    "X"
   ]
  },
  {
   "cell_type": "markdown",
   "id": "fbda467f-dd70-4ede-a3b9-3d0579c6e6a8",
   "metadata": {},
   "source": [
    "## Exploratory Data Analysis"
   ]
  },
  {
   "cell_type": "markdown",
   "id": "e460d9de-b28b-4b9b-9e37-0b0730806337",
   "metadata": {},
   "source": [
    "Will perform some Exploratory Data Analysis to see how different features are distribute in the dataset."
   ]
  },
  {
   "cell_type": "markdown",
   "id": "e3db4117-741c-4224-9ea9-f9bedd5e54cd",
   "metadata": {},
   "source": [
    "1.1 Visaulizing how age is distributed in the dataset"
   ]
  },
  {
   "cell_type": "code",
   "execution_count": 7,
   "id": "126fe87b-e63f-4c95-a09d-2d8bff87696b",
   "metadata": {},
   "outputs": [
    {
     "data": {
      "text/plain": [
       "<Axes: xlabel='age', ylabel='Density'>"
      ]
     },
     "execution_count": 7,
     "metadata": {},
     "output_type": "execute_result"
    },
    {
     "data": {
      "image/png": "[encoded data removed]",
      "text/plain": [
       "<Figure size 640x480 with 1 Axes>"
      ]
     },
     "metadata": {},
     "output_type": "display_data"
    }
   ],
   "source": [
    "sns.distplot(df['age'], hist=True, hist_kws={'edgecolor':'black'})"
   ]
  },
  {
   "cell_type": "markdown",
   "id": "a4fd9a2f-d66e-43ff-b87f-74161815a84b",
   "metadata": {},
   "source": [
    "1.2 Visualizing how Maritial Status and Education is distributed in the dataset.\n",
    "\n"
   ]
  },
  {
   "cell_type": "code",
   "execution_count": 8,
   "id": "508f299e-3825-4065-82fb-d1410453cf37",
   "metadata": {},
   "outputs": [
    {
     "data": {
      "text/plain": [
       "[Text(0, 0, 'basic.4y'),\n",
       " Text(1, 0, 'high.school'),\n",
       " Text(2, 0, 'basic.6y'),\n",
       " Text(3, 0, 'basic.9y'),\n",
       " Text(4, 0, 'professional.course'),\n",
       " Text(5, 0, 'unknown'),\n",
       " Text(6, 0, 'university.degree'),\n",
       " Text(7, 0, 'illiterate')]"
      ]
     },
     "execution_count": 8,
     "metadata": {},
     "output_type": "execute_result"
    },
    {
     "data": {
      "image/png": "[encoded data removed]",
      "text/plain": [
       "<Figure size 1300x500 with 2 Axes>"
      ]
     },
     "metadata": {},
     "output_type": "display_data"
    }
   ],
   "source": [
    "fig, (ax1, ax2) = plt.subplots(nrows = 1, ncols = 2, figsize = (13, 5))\n",
    "\n",
    "# First plot for marital status\n",
    "sns.countplot(x = \"marital\", data = df, ax = ax1)\n",
    "ax1.set_title(\"marital status distribution\", fontsize = 13)\n",
    "ax1.set_xlabel(\"Marital Status\", fontsize = 12)\n",
    "ax1.set_ylabel(\"Count\", fontsize = 12)\n",
    "\n",
    "# Second plot for Education distribution\n",
    "sns.countplot(x = \"education\", data = df, ax = ax2)\n",
    "ax2.set_title(\"Education distribution\", fontsize = 13)\n",
    "ax2.set_xlabel(\"Education level\", fontsize = 12)\n",
    "ax2.set_ylabel(\"Count\", fontsize = 12)\n",
    "ax2.set_xticklabels(ax2.get_xticklabels(), rotation = 70)"
   ]
  },
  {
   "cell_type": "markdown",
   "id": "24969bd2-768c-4145-922b-b8af2d135f5d",
   "metadata": {},
   "source": [
    "1.3 Visualizing how Jobs are distribution"
   ]
  },
  {
   "cell_type": "code",
   "execution_count": 9,
   "id": "7658e309-ee2f-480b-a9f9-7b156fbbd10a",
   "metadata": {},
   "outputs": [
    {
     "data": {
      "text/plain": [
       "Text(0.5, 1.0, 'Job Count Distribution')"
      ]
     },
     "execution_count": 9,
     "metadata": {},
     "output_type": "execute_result"
    },
    {
     "data": {
      "image/png": "[encoded data removed]",
      "text/plain": [
       "<Figure size 1500x500 with 1 Axes>"
      ]
     },
     "metadata": {},
     "output_type": "display_data"
    }
   ],
   "source": [
    "fig, ax = plt.subplots()\n",
    "fig.set_size_inches(15,5)\n",
    "sns.countplot(x = \"job\", data = df)\n",
    "ax.set_xlabel('Job', fontsize = 12)\n",
    "ax.set_ylabel('Count', fontsize = 12)\n",
    "ax.set_title(\"Job Count Distribution\", fontsize = 13)"
   ]
  },
  {
   "cell_type": "markdown",
   "id": "32193ea8-9fc2-4159-b958-9370f5350b72",
   "metadata": {},
   "source": [
    "1.4 Housing and Loan Distribution\n",
    "\n",
    "Visualizing how: \n",
    "\n",
    "1. Housing Loans are distributed. \n",
    "2. Personal Loans are distributed."
   ]
  },
  {
   "cell_type": "code",
   "execution_count": 10,
   "id": "87492ff6-e5b3-4fe9-8b32-a791b75c2b57",
   "metadata": {},
   "outputs": [
    {
     "data": {
      "text/plain": [
       "Text(0, 0.5, 'Count')"
      ]
     },
     "execution_count": 10,
     "metadata": {},
     "output_type": "execute_result"
    },
    {
     "data": {
      "image/png": "[encoded data removed]",
      "text/plain": [
       "<Figure size 1500x500 with 2 Axes>"
      ]
     },
     "metadata": {},
     "output_type": "display_data"
    }
   ],
   "source": [
    "# Housing loan data distribution\n",
    "fig, (ax1, ax2) = plt.subplots(nrows = 1, ncols = 2, figsize = (15, 5))\n",
    "sns.countplot(x = \"housing\", data = df, ax = ax1, order = ['yes', 'no', 'unknown'])\n",
    "ax1.set_title(\"Housing Loan distribution\")\n",
    "ax1.set_xlabel(\"Housing Loan\")\n",
    "ax1.set_ylabel(\"Count\")\n",
    "\n",
    "# Personal loan data distribution\n",
    "sns.countplot(x = \"loan\", data = df, ax = ax2, order = ['yes', 'no', 'unknown'])\n",
    "ax2.set_title(\"Personal Loan Distribution\")\n",
    "ax2.set_xlabel(\"Personal Loan\")\n",
    "ax2.set_ylabel(\"Count\")"
   ]
  },
  {
   "cell_type": "markdown",
   "id": "60837d0f-17b1-4f5e-9ed8-e0acf38fd898",
   "metadata": {},
   "source": [
    "Getting total count for: \n",
    "\n",
    "1. Credit Defaulters \n",
    "2. People with Housing loan \n",
    "3. People with Personal loan"
   ]
  },
  {
   "cell_type": "markdown",
   "id": "eb262be7-fcb3-4ea6-bb45-8749206d0179",
   "metadata": {},
   "source": [
    "*Credit Defaulter*"
   ]
  },
  {
   "cell_type": "code",
   "execution_count": 11,
   "id": "fcd28cb5-fb53-4a93-abea-cdaafb0893b4",
   "metadata": {},
   "outputs": [
    {
     "name": "stdout",
     "output_type": "stream",
     "text": [
      "Number of people with credit default:  3\n",
      "Number of people with no credit default:  32577\n",
      "Number of people who's credit default is unknown:  8596\n"
     ]
    }
   ],
   "source": [
    "print(\"Number of people with credit default: \", df[df['default'] == 'yes']['default'].count())\n",
    "print(\"Number of people with no credit default: \", df[df['default'] == 'no']['default'].count())\n",
    "print(\"Number of people who's credit default is unknown: \", df[df['default'] == 'unknown']['default'].count())"
   ]
  },
  {
   "cell_type": "markdown",
   "id": "7ee79935-fe74-421b-81aa-d2db8be8f8fe",
   "metadata": {},
   "source": [
    "*Housing Loan*"
   ]
  },
  {
   "cell_type": "code",
   "execution_count": 12,
   "id": "9ace822c-3b62-43c4-aec7-b5d011ca7345",
   "metadata": {},
   "outputs": [
    {
     "name": "stdout",
     "output_type": "stream",
     "text": [
      "Number of people with Housing loan:  21571\n",
      "Number of people with no Housing loan:  18615\n",
      "Number of people who's Housing loan is unknown:  990\n"
     ]
    }
   ],
   "source": [
    "print(\"Number of people with Housing loan: \", df[df['housing'] == 'yes']['housing'].count())\n",
    "print(\"Number of people with no Housing loan: \", df[df['housing'] == 'no']['housing'].count())\n",
    "print(\"Number of people who's Housing loan is unknown: \", df[df['housing'] == 'unknown']['housing'].count())"
   ]
  },
  {
   "cell_type": "markdown",
   "id": "e4c52d9a-468b-4d8e-9046-2349d4a4e901",
   "metadata": {},
   "source": [
    "*Personal Loan*"
   ]
  },
  {
   "cell_type": "code",
   "execution_count": 13,
   "id": "0455a714-0ac0-452d-b8d8-737b9a9e5349",
   "metadata": {},
   "outputs": [
    {
     "name": "stdout",
     "output_type": "stream",
     "text": [
      "Number of people with Personal loan:  6248\n",
      "Number of people with no Personal loan:  33938\n",
      "Number of people who's Personal loan is unknown:  990\n"
     ]
    }
   ],
   "source": [
    "print(\"Number of people with Personal loan: \", df[df['loan'] == 'yes']['loan'].count())\n",
    "print(\"Number of people with no Personal loan: \", df[df['loan'] == 'no']['loan'].count())\n",
    "print(\"Number of people who's Personal loan is unknown: \", df[df['loan'] == 'unknown']['loan'].count())"
   ]
  },
  {
   "cell_type": "markdown",
   "id": "e7fac169-f159-4291-bef5-0efc305a132a",
   "metadata": {},
   "source": [
    "1.4 Visualisation related to \"Last Contact of the Current Campaign\" "
   ]
  },
  {
   "cell_type": "markdown",
   "id": "f7ef3c8d-9714-478c-b200-b6394d04e110",
   "metadata": {},
   "source": [
    "<i> Visualisation related to Duration </i>\n",
    "\n",
    "Plotting duration using boxplot makes it difficult to obtain some important values like average of distribution and so I am plotting histogram on the side to see how its distributed and check for mean value (If its possible). "
   ]
  },
  {
   "cell_type": "code",
   "execution_count": 14,
   "id": "1606a5b6-9417-4cc4-81c9-19310ffb815f",
   "metadata": {},
   "outputs": [
    {
     "data": {
      "text/plain": [
       "Text(0.5, 1.0, 'Call Duration vs Count')"
      ]
     },
     "execution_count": 14,
     "metadata": {},
     "output_type": "execute_result"
    },
    {
     "data": {
      "image/png": "[encoded data removed]",
      "text/plain": [
       "<Figure size 1500x500 with 2 Axes>"
      ]
     },
     "metadata": {},
     "output_type": "display_data"
    }
   ],
   "source": [
    "fig, (ax1, ax2) = plt.subplots(nrows = 1, ncols = 2, figsize = (15, 5))\n",
    "\n",
    "sns.boxplot(x = \"duration\", data = df, orient = 'v', ax = ax1)\n",
    "ax1.set_xlabel(\"Calls\")\n",
    "ax1.set_ylabel(\"Duration\")\n",
    "ax1.set_title(\"Call distribution\")\n",
    "\n",
    "sns.distplot(df['duration'], ax = ax2)\n",
    "ax2.set_xlabel(\"Call duration\")\n",
    "ax2.set_ylabel(\"Count\")\n",
    "ax2.set_title(\"Call Duration vs Count\")"
   ]
  },
  {
   "cell_type": "markdown",
   "id": "1f0e7187-8a6b-4388-90d5-5356d3bfcb33",
   "metadata": {
    "scrolled": true
   },
   "source": [
    "Getting all the Mean, Standard Diveation, Minimum and Maximum values for duration  "
   ]
  },
  {
   "cell_type": "code",
   "execution_count": 15,
   "id": "4d45b289-e6d6-42f9-a8ab-82263924b3e5",
   "metadata": {},
   "outputs": [
    {
     "name": "stdout",
     "output_type": "stream",
     "text": [
      "Min call duration:  0\n",
      "Max call duration:  4918\n",
      "Median call duration:  258.32\n",
      "Standard diveation in call duration:  259.31\n"
     ]
    }
   ],
   "source": [
    "min_duration = df['duration'].min()\n",
    "max_duration = df['duration'].max()\n",
    "median_duration = df['duration'].mean()\n",
    "standard_dev_duration = df[\"duration\"].std()\n",
    "\n",
    "print(\"Min call duration: \", min_duration)\n",
    "print(\"Max call duration: \", max_duration)\n",
    "print(\"Median call duration: \", round(median_duration, 2))\n",
    "print(\"Standard diveation in call duration: \", round(standard_dev_duration, 2))"
   ]
  },
  {
   "cell_type": "markdown",
   "id": "dade5129-8bb3-43d9-856b-98b7dfda6b06",
   "metadata": {},
   "source": [
    "We can see from the box plot that most call duration is around the mean so finding the interquartile range will help us in understanding how long the call might last"
   ]
  },
  {
   "cell_type": "code",
   "execution_count": 16,
   "id": "9cc16211-96c3-477f-9ccf-40265f6cfce6",
   "metadata": {},
   "outputs": [
    {
     "name": "stdout",
     "output_type": "stream",
     "text": [
      "Second Quartile:  180.0\n",
      "Third Quartile:  319.0\n",
      "Inter quartile range(range within which most data is present):  139.0\n"
     ]
    }
   ],
   "source": [
    "first_quartile = df['duration'].quantile(q = 0.25)\n",
    "second_quartile = df['duration'].quantile(q = 0.50)\n",
    "third_quartile = df['duration'].quantile(q = 0.75)\n",
    "fourth_quartile = df['duration'].quantile(q = 1)\n",
    "IRQ = third_quartile - second_quartile\n",
    "\n",
    "print(\"Second Quartile: \", second_quartile)\n",
    "print(\"Third Quartile: \", third_quartile)\n",
    "print(\"Inter quartile range(range within which most data is present): \",IRQ)"
   ]
  },
  {
   "cell_type": "markdown",
   "id": "d9994d07-cdd5-4d4a-bafc-e54357efdc76",
   "metadata": {},
   "source": [
    " <i> Visualisation related to \"Contact, Month\" </i>"
   ]
  },
  {
   "cell_type": "code",
   "execution_count": 18,
   "id": "d9aea8e3-6f23-4db3-8fdb-7714c77a7f00",
   "metadata": {},
   "outputs": [
    {
     "data": {
      "text/plain": [
       "Text(0.5, 1.0, 'Count of Contact Methods')"
      ]
     },
     "execution_count": 18,
     "metadata": {},
     "output_type": "execute_result"
    },
    {
     "data": {
      "image/png": "[encoded data removed]",
      "text/plain": [
       "<Figure size 500x500 with 1 Axes>"
      ]
     },
     "metadata": {},
     "output_type": "display_data"
    }
   ],
   "source": [
    "fig, (ax1) = plt.subplots(nrows = 1, ncols =1 , figsize = (5, 5))\n",
    "\n",
    "sns.countplot(x = 'contact', data = df, ax = ax1)\n",
    "ax1.set_xlabel(\"Contact Method\")\n",
    "ax1.set_ylabel(\"Count\")\n",
    "ax1.set_title(\"Count of Contact Methods\")\n",
    "\n",
    "# day_of_week.value_counts()\n",
    "# sns.countplot(X['day_of_week'], ax = ax2)\n",
    "# ax2.set_xlabel(\"Days of the week\")\n",
    "# ax2.set_ylabel(\"Count\")\n",
    "# ax2.set_title(\"Count of Calls made on Days of the week\")"
   ]
  },
  {
   "cell_type": "code",
   "execution_count": 19,
   "id": "3b661cf0-94d9-4ed5-8ed1-ce454f97271b",
   "metadata": {
    "scrolled": true
   },
   "outputs": [
    {
     "data": {
      "text/plain": [
       "Text(0.5, 1.0, 'Count of contacts made in each month')"
      ]
     },
     "execution_count": 19,
     "metadata": {},
     "output_type": "execute_result"
    },
    {
     "data": {
      "image/png": "[encoded data removed]",
      "text/plain": [
       "<Figure size 1500x500 with 1 Axes>"
      ]
     },
     "metadata": {},
     "output_type": "display_data"
    }
   ],
   "source": [
    "# For Months\n",
    "fig, ax = plt.subplots(figsize = (15, 5))\n",
    "sns.countplot(x = 'month', data = df, order = ['mar', 'apr', 'may', 'jun', 'jul', 'aug', 'sep', 'oct', 'nov', 'dec'])\n",
    "ax.set_xlabel(\"Months\")\n",
    "ax.set_ylabel(\"Count\")\n",
    "ax.set_title(\"Count of contacts made in each month\")"
   ]
  },
  {
   "cell_type": "markdown",
   "id": "625810b0-ee4f-44b3-ad45-ab725b094fb7",
   "metadata": {},
   "source": [
    "*Checking if there exists a relation between  Duration of call and Jobs*"
   ]
  },
  {
   "cell_type": "code",
   "execution_count": 20,
   "id": "4d380ede-f46e-4bfa-9a89-93e14cfc24b4",
   "metadata": {},
   "outputs": [
    {
     "data": {
      "text/plain": [
       "Text(0.5, 1.0, 'log(Duration) vs Jobs')"
      ]
     },
     "execution_count": 20,
     "metadata": {},
     "output_type": "execute_result"
    },
    {
     "data": {
      "image/png": "[encoded data removed]",
      "text/plain": [
       "<Figure size 1500x500 with 1 Axes>"
      ]
     },
     "metadata": {},
     "output_type": "display_data"
    }
   ],
   "source": [
    "fig, ax = plt.subplots(figsize = (15, 5))\n",
    "sns.boxplot(x = \"job\", y = \"duration\", data = df, orient = 'v')\n",
    "ax.set_xlabel(\"Jobs\")\n",
    "ax.set_ylabel(\"Duration\")\n",
    "ax.set_yscale(\"log\")\n",
    "ax.set_title(\"log(Duration) vs Jobs\")"
   ]
  },
  {
   "cell_type": "markdown",
   "id": "ea54f83f-3f64-4350-9a49-94c26250f37b",
   "metadata": {},
   "source": [
    "*Checking if there is a relation between average duration of call and eduacation *"
   ]
  },
  {
   "cell_type": "code",
   "execution_count": 21,
   "id": "e6392ce6-c28b-4d0c-82a5-0e19a3b1c466",
   "metadata": {},
   "outputs": [
    {
     "data": {
      "text/plain": [
       "Text(0.5, 1.0, 'log(Duration) vs Education')"
      ]
     },
     "execution_count": 21,
     "metadata": {},
     "output_type": "execute_result"
    },
    {
     "data": {
      "image/png": "[encoded data removed]",
      "text/plain": [
       "<Figure size 1500x500 with 1 Axes>"
      ]
     },
     "metadata": {},
     "output_type": "display_data"
    }
   ],
   "source": [
    "fig, ax = plt.subplots(figsize = (15, 5))\n",
    "sns.boxplot(x = \"education\", y = \"duration\", data = df, orient = 'v')\n",
    "ax.set_xlabel(\"Education\")\n",
    "ax.set_ylabel(\"Duration\")\n",
    "ax.set_yscale(\"log\")\n",
    "ax.set_title(\"log(Duration) vs Education\")"
   ]
  },
  {
   "cell_type": "code",
   "execution_count": null,
   "id": "4b27daec-23d1-4a03-b04f-085f66571b61",
   "metadata": {},
   "outputs": [],
   "source": []
  },
  {
   "cell_type": "markdown",
   "id": "ec82d487-28eb-4662-95fe-27029c35445c",
   "metadata": {},
   "source": [
    "BANK CLIENTS CONCLUSION\n",
    "\n",
    "The ages dont mean to much, has a medium dispersion and dont make sense relate with other variables will not tell any insight\n",
    "\n",
    "Jobs, Marital and Education i think the best analisys is just the count of each variable, if we related with the other ones its is not conclusive, all this kind of variables has yes, unknown and no for loan, default and housing.\n",
    "\n",
    "Default, loan and housing, its just to see the distribution of people."
   ]
  },
  {
   "cell_type": "markdown",
   "id": "8c32bccf-1195-485e-b5e3-3bdb6dd973ce",
   "metadata": {},
   "source": [
    "### Categorical Treatment\n",
    "Different categorial features and there values in the dataset are:"
   ]
  },
  {
   "cell_type": "code",
   "execution_count": 22,
   "id": "7f798e8b-9da5-430e-aec9-e7d666416aa6",
   "metadata": {
    "scrolled": true
   },
   "outputs": [
    {
     "name": "stdout",
     "output_type": "stream",
     "text": [
      "Jobs: \n",
      " ['housemaid' 'services' 'admin.' 'blue-collar' 'technician' 'retired'\n",
      " 'management' 'unemployed' 'self-employed' 'unknown' 'entrepreneur'\n",
      " 'student'] \n",
      "\n",
      "Marital Status: \n",
      " ['married' 'single' 'divorced' 'unknown'] \n",
      "\n",
      "Education: \n",
      " ['basic.4y' 'high.school' 'basic.6y' 'basic.9y' 'professional.course'\n",
      " 'unknown' 'university.degree' 'illiterate'] \n",
      "\n",
      "Default on Credit: \n",
      " ['no' 'unknown' 'yes'] \n",
      "\n",
      "Housing loan: \n",
      " ['no' 'yes' 'unknown'] \n",
      "\n",
      "Loan default: \n",
      " ['no' 'yes' 'unknown'] \n",
      "\n",
      "Contact type: \n",
      " ['telephone' 'cellular'] \n",
      "\n",
      "Months: \n",
      " ['may' 'jun' 'jul' 'aug' 'oct' 'nov' 'dec' 'mar' 'apr' 'sep'] \n",
      "\n",
      "day_of_week: \n",
      " ['mon' 'tue' 'wed' 'thu' 'fri'] \n",
      "\n",
      "Poutcome: \n",
      " ['nonexistent' 'failure' 'success'] \n",
      "\n"
     ]
    }
   ],
   "source": [
    "print(\"Jobs: \\n\", df[\"job\"].unique(),'\\n')\n",
    "print(\"Marital Status: \\n\", df['marital'].unique(),'\\n')\n",
    "print(\"Education: \\n\", df['education'].unique(),'\\n')\n",
    "print(\"Default on Credit: \\n\", df['default'].unique(),'\\n')\n",
    "print(\"Housing loan: \\n\", df['housing'].unique(),'\\n')\n",
    "print(\"Loan default: \\n\", df['loan'].unique(),'\\n')\n",
    "print(\"Contact type: \\n\", df['contact'].unique(),'\\n')\n",
    "print(\"Months: \\n\", df['month'].unique(),'\\n')\n",
    "print(\"day_of_week: \\n\", df['day_of_week'].unique(),'\\n')\n",
    "print(\"Poutcome: \\n\",df[\"poutcome\"].unique(),'\\n')"
   ]
  },
  {
   "cell_type": "markdown",
   "id": "bfadb841-8778-4a53-b5b6-6f9557088df2",
   "metadata": {},
   "source": [
    "### Creating label encoders to treat all categorical variables"
   ]
  },
  {
   "cell_type": "code",
   "execution_count": 23,
   "id": "b470a34e-5d53-4f33-bb96-9341142a9c6e",
   "metadata": {},
   "outputs": [],
   "source": [
    "labelencoder_X = LabelEncoder()"
   ]
  },
  {
   "cell_type": "code",
   "execution_count": 24,
   "id": "97072d67-48bc-4213-a577-05f79b5ba968",
   "metadata": {},
   "outputs": [
    {
     "data": {
      "text/html": [
       "<div>\n",
       "<style scoped>\n",
       "    .dataframe tbody tr th:only-of-type {\n",
       "        vertical-align: middle;\n",
       "    }\n",
       "\n",
       "    .dataframe tbody tr th {\n",
       "        vertical-align: top;\n",
       "    }\n",
       "\n",
       "    .dataframe thead th {\n",
       "        text-align: right;\n",
       "    }\n",
       "</style>\n",
       "<table border=\"1\" class=\"dataframe\">\n",
       "  <thead>\n",
       "    <tr style=\"text-align: right;\">\n",
       "      <th></th>\n",
       "      <th>age</th>\n",
       "      <th>job</th>\n",
       "      <th>marital</th>\n",
       "      <th>education</th>\n",
       "      <th>default</th>\n",
       "      <th>housing</th>\n",
       "      <th>loan</th>\n",
       "      <th>contact</th>\n",
       "      <th>month</th>\n",
       "      <th>day_of_week</th>\n",
       "      <th>duration</th>\n",
       "      <th>campaign</th>\n",
       "      <th>pdays</th>\n",
       "      <th>previous</th>\n",
       "      <th>poutcome</th>\n",
       "      <th>emp.var.rate</th>\n",
       "      <th>cons.price.idx</th>\n",
       "      <th>cons.conf.idx</th>\n",
       "      <th>euribor3m</th>\n",
       "      <th>nr.employed</th>\n",
       "    </tr>\n",
       "  </thead>\n",
       "  <tbody>\n",
       "    <tr>\n",
       "      <th>0</th>\n",
       "      <td>56</td>\n",
       "      <td>3</td>\n",
       "      <td>1</td>\n",
       "      <td>0</td>\n",
       "      <td>0</td>\n",
       "      <td>0</td>\n",
       "      <td>0</td>\n",
       "      <td>1</td>\n",
       "      <td>6</td>\n",
       "      <td>1</td>\n",
       "      <td>261</td>\n",
       "      <td>1</td>\n",
       "      <td>999</td>\n",
       "      <td>0</td>\n",
       "      <td>1</td>\n",
       "      <td>1.1</td>\n",
       "      <td>93.994</td>\n",
       "      <td>-36.4</td>\n",
       "      <td>4.857</td>\n",
       "      <td>5191.0</td>\n",
       "    </tr>\n",
       "    <tr>\n",
       "      <th>1</th>\n",
       "      <td>57</td>\n",
       "      <td>7</td>\n",
       "      <td>1</td>\n",
       "      <td>3</td>\n",
       "      <td>1</td>\n",
       "      <td>0</td>\n",
       "      <td>0</td>\n",
       "      <td>1</td>\n",
       "      <td>6</td>\n",
       "      <td>1</td>\n",
       "      <td>149</td>\n",
       "      <td>1</td>\n",
       "      <td>999</td>\n",
       "      <td>0</td>\n",
       "      <td>1</td>\n",
       "      <td>1.1</td>\n",
       "      <td>93.994</td>\n",
       "      <td>-36.4</td>\n",
       "      <td>4.857</td>\n",
       "      <td>5191.0</td>\n",
       "    </tr>\n",
       "    <tr>\n",
       "      <th>2</th>\n",
       "      <td>37</td>\n",
       "      <td>7</td>\n",
       "      <td>1</td>\n",
       "      <td>3</td>\n",
       "      <td>0</td>\n",
       "      <td>2</td>\n",
       "      <td>0</td>\n",
       "      <td>1</td>\n",
       "      <td>6</td>\n",
       "      <td>1</td>\n",
       "      <td>226</td>\n",
       "      <td>1</td>\n",
       "      <td>999</td>\n",
       "      <td>0</td>\n",
       "      <td>1</td>\n",
       "      <td>1.1</td>\n",
       "      <td>93.994</td>\n",
       "      <td>-36.4</td>\n",
       "      <td>4.857</td>\n",
       "      <td>5191.0</td>\n",
       "    </tr>\n",
       "    <tr>\n",
       "      <th>3</th>\n",
       "      <td>40</td>\n",
       "      <td>0</td>\n",
       "      <td>1</td>\n",
       "      <td>1</td>\n",
       "      <td>0</td>\n",
       "      <td>0</td>\n",
       "      <td>0</td>\n",
       "      <td>1</td>\n",
       "      <td>6</td>\n",
       "      <td>1</td>\n",
       "      <td>151</td>\n",
       "      <td>1</td>\n",
       "      <td>999</td>\n",
       "      <td>0</td>\n",
       "      <td>1</td>\n",
       "      <td>1.1</td>\n",
       "      <td>93.994</td>\n",
       "      <td>-36.4</td>\n",
       "      <td>4.857</td>\n",
       "      <td>5191.0</td>\n",
       "    </tr>\n",
       "    <tr>\n",
       "      <th>4</th>\n",
       "      <td>56</td>\n",
       "      <td>7</td>\n",
       "      <td>1</td>\n",
       "      <td>3</td>\n",
       "      <td>0</td>\n",
       "      <td>0</td>\n",
       "      <td>2</td>\n",
       "      <td>1</td>\n",
       "      <td>6</td>\n",
       "      <td>1</td>\n",
       "      <td>307</td>\n",
       "      <td>1</td>\n",
       "      <td>999</td>\n",
       "      <td>0</td>\n",
       "      <td>1</td>\n",
       "      <td>1.1</td>\n",
       "      <td>93.994</td>\n",
       "      <td>-36.4</td>\n",
       "      <td>4.857</td>\n",
       "      <td>5191.0</td>\n",
       "    </tr>\n",
       "  </tbody>\n",
       "</table>\n",
       "</div>"
      ],
      "text/plain": [
       "   age  job  marital  education  default  housing  loan  contact  month  \\\n",
       "0   56    3        1          0        0        0     0        1      6   \n",
       "1   57    7        1          3        1        0     0        1      6   \n",
       "2   37    7        1          3        0        2     0        1      6   \n",
       "3   40    0        1          1        0        0     0        1      6   \n",
       "4   56    7        1          3        0        0     2        1      6   \n",
       "\n",
       "   day_of_week  duration  campaign  pdays  previous  poutcome  emp.var.rate  \\\n",
       "0            1       261         1    999         0         1           1.1   \n",
       "1            1       149         1    999         0         1           1.1   \n",
       "2            1       226         1    999         0         1           1.1   \n",
       "3            1       151         1    999         0         1           1.1   \n",
       "4            1       307         1    999         0         1           1.1   \n",
       "\n",
       "   cons.price.idx  cons.conf.idx  euribor3m  nr.employed  \n",
       "0          93.994          -36.4      4.857       5191.0  \n",
       "1          93.994          -36.4      4.857       5191.0  \n",
       "2          93.994          -36.4      4.857       5191.0  \n",
       "3          93.994          -36.4      4.857       5191.0  \n",
       "4          93.994          -36.4      4.857       5191.0  "
      ]
     },
     "execution_count": 24,
     "metadata": {},
     "output_type": "execute_result"
    }
   ],
   "source": [
    "X[\"job\"] = labelencoder_X.fit_transform(df[\"job\"])\n",
    "X[\"marital\"] = labelencoder_X.fit_transform(df[\"marital\"])\n",
    "X[\"education\"] = labelencoder_X.fit_transform(df[\"education\"])\n",
    "X[\"default\"] = labelencoder_X.fit_transform(df[\"default\"])\n",
    "X[\"housing\"] = labelencoder_X.fit_transform(df[\"housing\"])\n",
    "X[\"loan\"] = labelencoder_X.fit_transform(df[\"loan\"])\n",
    "X[\"contact\"] = labelencoder_X.fit_transform(df[\"contact\"])\n",
    "X[\"month\"] = labelencoder_X.fit_transform(df[\"month\"])\n",
    "X[\"day_of_week\"] = labelencoder_X.fit_transform(df[\"day_of_week\"])\n",
    "X[\"poutcome\"] = labelencoder_X.fit_transform(df[\"poutcome\"])\n",
    "\n",
    "X.head()"
   ]
  },
  {
   "cell_type": "code",
   "execution_count": null,
   "id": "50efe07b-002c-4a5f-b357-48a9c215a07a",
   "metadata": {
    "scrolled": true
   },
   "outputs": [],
   "source": []
  },
  {
   "cell_type": "markdown",
   "id": "30772dc2-0edc-47aa-ad96-772d7b06411f",
   "metadata": {},
   "source": [
    "### Splitting the data"
   ]
  },
  {
   "cell_type": "code",
   "execution_count": 25,
   "id": "d4aea375-e9dc-4c9a-9979-d45df866eaa2",
   "metadata": {},
   "outputs": [],
   "source": [
    "x_train, x_test, y_train, y_test = train_test_split(X, Y, stratify=Y, test_size=.2, random_state=42)"
   ]
  },
  {
   "cell_type": "code",
   "execution_count": 26,
   "id": "dc3f35f4-543e-4974-bcda-a8bbe0e18a76",
   "metadata": {
    "scrolled": true
   },
   "outputs": [
    {
     "name": "stdout",
     "output_type": "stream",
     "text": [
      "X_train: (32940, 20)\n",
      "y_train: (32940,)\n",
      "X_test: (8236, 20)\n",
      "y_test: (8236,)\n"
     ]
    }
   ],
   "source": [
    "print('X_train:',x_train.shape)\n",
    "print('y_train:',y_train.shape)\n",
    "print('X_test:',x_test.shape)\n",
    "print('y_test:',y_test.shape)"
   ]
  },
  {
   "cell_type": "markdown",
   "id": "133c767e-745e-4ce2-bd5c-2f023a07afee",
   "metadata": {},
   "source": [
    "#### Convert Pandas dataframe, first to numpy and then to Torch Tensors"
   ]
  },
  {
   "cell_type": "code",
   "execution_count": 27,
   "id": "8c1f5345-944f-4df4-b957-5112d2576c0c",
   "metadata": {},
   "outputs": [],
   "source": [
    "# X_train = tch.from_numpy(X_train.values)\n",
    "# x_test = torch.from_numpy(x_test.values)\n",
    "# Y_train = tch.from_numpy(Y_train.values).reshape(-1,1)\n",
    "# y_test = tch.from_numpy(y_test.values).reshape(-1,1)"
   ]
  },
  {
   "cell_type": "markdown",
   "id": "e1e88b59-bdb2-4b22-be60-56dabe1e66ac",
   "metadata": {},
   "source": [
    "## Model Building"
   ]
  },
  {
   "cell_type": "code",
   "execution_count": 28,
   "id": "1da80415-87e2-4891-955e-1a40f55f22d8",
   "metadata": {},
   "outputs": [],
   "source": [
    "class Data(torch.utils.data.Dataset):\n",
    "    def __init__(self,X,y):\n",
    "        super().__init__()\n",
    "        self.X = torch.from_numpy(X.values)\n",
    "        self.y = torch.from_numpy(y.values)\n",
    "        \n",
    "    def __len__(self): \n",
    "        return len(self.X)\n",
    "    \n",
    "    def __getitem__(self,i): \n",
    "        return (self.X[i], self.y[i])"
   ]
  },
  {
   "cell_type": "markdown",
   "id": "7afa8f54-0e0a-428f-b043-b2176ed3b90a",
   "metadata": {},
   "source": [
    "### Define the Neural Net"
   ]
  },
  {
   "cell_type": "code",
   "execution_count": 29,
   "id": "bfe0e363-d6cc-43cb-8cff-993a2366717e",
   "metadata": {},
   "outputs": [],
   "source": [
    "class Neural_Network(nn.Module):\n",
    "    def __init__(self):\n",
    "        super().__init__()\n",
    "        \n",
    "        self.layer = nn.Sequential(\n",
    "            nn.Linear(20,128),\n",
    "            nn.Tanh(),\n",
    "            nn.Linear(128,256),\n",
    "            nn.ReLU(),\n",
    "            nn.Linear(256,512),\n",
    "            nn.ReLU(),\n",
    "            nn.Linear(512,1),\n",
    "        )\n",
    "        \n",
    "    def forward(self, X):\n",
    "        return self.layer(X)"
   ]
  },
  {
   "cell_type": "markdown",
   "id": "7ea2164a-de0b-4717-bd5b-43461359221a",
   "metadata": {},
   "source": [
    "### Training parameters"
   ]
  },
  {
   "cell_type": "code",
   "execution_count": 30,
   "id": "6a79c02a-e818-4b0c-8208-2d8c290dab4d",
   "metadata": {},
   "outputs": [],
   "source": [
    "NN = Neural_Network()\n",
    "\n",
    "train_dataset = Data(x_train, y_train)\n",
    "train_loader = torch.utils.data.DataLoader(train_dataset, batch_size=128)\n",
    "\n",
    "optimizer = torch.optim.SGD(NN.parameters(), lr=1e-4)\n",
    "\n",
    "loss_func = nn.MSELoss()\n",
    "\n",
    "epochs = 150"
   ]
  },
  {
   "cell_type": "markdown",
   "id": "d5abc263-6b15-4562-8c49-a1e001399572",
   "metadata": {},
   "source": [
    "### The Training Loop "
   ]
  },
  {
   "cell_type": "code",
   "execution_count": 31,
   "id": "591b80c2-fa5c-43bb-b438-dee851a3a441",
   "metadata": {},
   "outputs": [
    {
     "name": "stdout",
     "output_type": "stream",
     "text": [
      "epoch: 0 - loss: 29.420549035072327\n",
      "epoch: 50 - loss: 19.3724032510072\n",
      "epoch: 100 - loss: 18.65291717275977\n"
     ]
    }
   ],
   "source": [
    "for epoch in range(epochs):\n",
    "    total_training_loss = 0\n",
    "    for i, data in enumerate(train_loader,0):\n",
    "        features,target = data\n",
    "        features,target = features.float(),target.float()\n",
    "        target = target.reshape(-1,1)\n",
    "        \n",
    "        optimizer.zero_grad()\n",
    "        \n",
    "        pred = NN.forward(features)\n",
    "\n",
    "        loss = loss_func(pred, target)\n",
    "        total_training_loss += loss.item()\n",
    "\n",
    "        loss.backward() \n",
    "        optimizer.step()\n",
    "    if epoch % 50 == 0:\n",
    "        print(f'epoch: {epoch} - loss: {total_training_loss}')"
   ]
  },
  {
   "cell_type": "markdown",
   "id": "2b246363-6f3c-45a9-af7a-98f058c4afcd",
   "metadata": {},
   "source": [
    "### Make Predictions"
   ]
  },
  {
   "cell_type": "code",
   "execution_count": 32,
   "id": "1cf0e486-c331-42b8-a784-a594f697d255",
   "metadata": {
    "scrolled": true
   },
   "outputs": [
    {
     "data": {
      "text/html": [
       "<div>\n",
       "<style scoped>\n",
       "    .dataframe tbody tr th:only-of-type {\n",
       "        vertical-align: middle;\n",
       "    }\n",
       "\n",
       "    .dataframe tbody tr th {\n",
       "        vertical-align: top;\n",
       "    }\n",
       "\n",
       "    .dataframe thead th {\n",
       "        text-align: right;\n",
       "    }\n",
       "</style>\n",
       "<table border=\"1\" class=\"dataframe\">\n",
       "  <thead>\n",
       "    <tr style=\"text-align: right;\">\n",
       "      <th></th>\n",
       "      <th>Actual</th>\n",
       "      <th>Prediction</th>\n",
       "    </tr>\n",
       "  </thead>\n",
       "  <tbody>\n",
       "    <tr>\n",
       "      <th>8490</th>\n",
       "      <td>0</td>\n",
       "      <td>0</td>\n",
       "    </tr>\n",
       "    <tr>\n",
       "      <th>40844</th>\n",
       "      <td>1</td>\n",
       "      <td>1</td>\n",
       "    </tr>\n",
       "    <tr>\n",
       "      <th>35681</th>\n",
       "      <td>0</td>\n",
       "      <td>0</td>\n",
       "    </tr>\n",
       "    <tr>\n",
       "      <th>35994</th>\n",
       "      <td>0</td>\n",
       "      <td>0</td>\n",
       "    </tr>\n",
       "    <tr>\n",
       "      <th>21961</th>\n",
       "      <td>0</td>\n",
       "      <td>0</td>\n",
       "    </tr>\n",
       "    <tr>\n",
       "      <th>11522</th>\n",
       "      <td>0</td>\n",
       "      <td>0</td>\n",
       "    </tr>\n",
       "    <tr>\n",
       "      <th>35058</th>\n",
       "      <td>0</td>\n",
       "      <td>0</td>\n",
       "    </tr>\n",
       "    <tr>\n",
       "      <th>31093</th>\n",
       "      <td>0</td>\n",
       "      <td>0</td>\n",
       "    </tr>\n",
       "    <tr>\n",
       "      <th>32880</th>\n",
       "      <td>0</td>\n",
       "      <td>0</td>\n",
       "    </tr>\n",
       "    <tr>\n",
       "      <th>22655</th>\n",
       "      <td>0</td>\n",
       "      <td>0</td>\n",
       "    </tr>\n",
       "  </tbody>\n",
       "</table>\n",
       "</div>"
      ],
      "text/plain": [
       "       Actual  Prediction\n",
       "8490        0           0\n",
       "40844       1           1\n",
       "35681       0           0\n",
       "35994       0           0\n",
       "21961       0           0\n",
       "11522       0           0\n",
       "35058       0           0\n",
       "31093       0           0\n",
       "32880       0           0\n",
       "22655       0           0"
      ]
     },
     "execution_count": 32,
     "metadata": {},
     "output_type": "execute_result"
    }
   ],
   "source": [
    "preds = NN.forward(torch.from_numpy(x_test.values).float())\n",
    "preds = preds.detach().numpy().reshape(-1,)\n",
    "result = pd.DataFrame(\n",
    "    {\n",
    "        'Actual':y_test,\n",
    "        'Prediction':np.round(preds).astype(int)\n",
    "    }\n",
    ")\n",
    "\n",
    "result.head(10)"
   ]
  },
  {
   "cell_type": "code",
   "execution_count": 33,
   "id": "ac4226f5-5501-4ac8-a675-5e45a437a5d7",
   "metadata": {},
   "outputs": [
    {
     "data": {
      "text/plain": [
       "0.2726152394390533"
      ]
     },
     "execution_count": 33,
     "metadata": {},
     "output_type": "execute_result"
    }
   ],
   "source": [
    "from sklearn.metrics import r2_score\n",
    "\n",
    "r2_score(y_test,preds)"
   ]
  },
  {
   "cell_type": "markdown",
   "id": "bcba679f-6ada-4ddf-b394-e2dfeadb4513",
   "metadata": {},
   "source": [
    "Training Metrics :"
   ]
  }
 ],
 "metadata": {
  "kernelspec": {
   "display_name": "Python 3 (ipykernel)",
   "language": "python",
   "name": "python3"
  },
  "language_info": {
   "codemirror_mode": {
    "name": "ipython",
    "version": 3
   },
   "file_extension": ".py",
   "mimetype": "text/x-python",
   "name": "python",
   "nbconvert_exporter": "python",
   "pygments_lexer": "ipython3",
   "version": "3.9.17"
  }
 },
 "nbformat": 4,
 "nbformat_minor": 5
}
